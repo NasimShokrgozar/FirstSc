{
  "nbformat": 4,
  "nbformat_minor": 0,
  "metadata": {
    "colab": {
      "provenance": [],
      "authorship_tag": "ABX9TyNs1UOY6vJCEMjkrcG+Ufik",
      "include_colab_link": true
    },
    "kernelspec": {
      "name": "python3",
      "display_name": "Python 3"
    },
    "language_info": {
      "name": "python"
    }
  },
  "cells": [
    {
      "cell_type": "markdown",
      "metadata": {
        "id": "view-in-github",
        "colab_type": "text"
      },
      "source": [
        "<a href=\"https://colab.research.google.com/github/NasimShokrgozar/FirstSc/blob/main/Session06_Basic.ipynb\" target=\"_parent\"><img src=\"https://colab.research.google.com/assets/colab-badge.svg\" alt=\"Open In Colab\"/></a>"
      ]
    },
    {
      "cell_type": "code",
      "execution_count": 1,
      "metadata": {
        "id": "VX74yWVBnTc7"
      },
      "outputs": [],
      "source": [
        "import numpy as np\n",
        "import pandas as pd"
      ]
    },
    {
      "cell_type": "code",
      "source": [
        "df_f=pd.read_excel('/content/Farm - clustering or prediction.xlsx')\n",
        "df_f.head()"
      ],
      "metadata": {
        "colab": {
          "base_uri": "https://localhost:8080/",
          "height": 206
        },
        "id": "YYu9pJl1njnO",
        "outputId": "5d4f754a-11b7-4ce6-fdcd-08973b925520"
      },
      "execution_count": 2,
      "outputs": [
        {
          "output_type": "execute_result",
          "data": {
            "text/plain": [
              "      id     name     region  farmsize  rainfall  landquality  farmincome  \\\n",
              "0  id601  name601   midlands      1480        30            8    330729.0   \n",
              "1  id602  name602      north      1780        42            9    734118.0   \n",
              "2  id603  name603   midlands       500        69            7    231965.0   \n",
              "3  id604  name604  southwest      1860       103            3    625251.0   \n",
              "4  id605  name605      north      1700        46            8    621148.0   \n",
              "\n",
              "   maincrop          claimtype  claimvalue  \n",
              "0     wheat  decommission_land     74703.1  \n",
              "1     maize         arable_dev    245354.0  \n",
              "2  rapeseed  decommission_land     84213.0  \n",
              "3  potatoes  decommission_land    281082.0  \n",
              "4     wheat  decommission_land    122006.0  "
            ],
            "text/html": [
              "\n",
              "  <div id=\"df-4e89b8d5-6cf6-45ba-b185-f0c51927e8ab\">\n",
              "    <div class=\"colab-df-container\">\n",
              "      <div>\n",
              "<style scoped>\n",
              "    .dataframe tbody tr th:only-of-type {\n",
              "        vertical-align: middle;\n",
              "    }\n",
              "\n",
              "    .dataframe tbody tr th {\n",
              "        vertical-align: top;\n",
              "    }\n",
              "\n",
              "    .dataframe thead th {\n",
              "        text-align: right;\n",
              "    }\n",
              "</style>\n",
              "<table border=\"1\" class=\"dataframe\">\n",
              "  <thead>\n",
              "    <tr style=\"text-align: right;\">\n",
              "      <th></th>\n",
              "      <th>id</th>\n",
              "      <th>name</th>\n",
              "      <th>region</th>\n",
              "      <th>farmsize</th>\n",
              "      <th>rainfall</th>\n",
              "      <th>landquality</th>\n",
              "      <th>farmincome</th>\n",
              "      <th>maincrop</th>\n",
              "      <th>claimtype</th>\n",
              "      <th>claimvalue</th>\n",
              "    </tr>\n",
              "  </thead>\n",
              "  <tbody>\n",
              "    <tr>\n",
              "      <th>0</th>\n",
              "      <td>id601</td>\n",
              "      <td>name601</td>\n",
              "      <td>midlands</td>\n",
              "      <td>1480</td>\n",
              "      <td>30</td>\n",
              "      <td>8</td>\n",
              "      <td>330729.0</td>\n",
              "      <td>wheat</td>\n",
              "      <td>decommission_land</td>\n",
              "      <td>74703.1</td>\n",
              "    </tr>\n",
              "    <tr>\n",
              "      <th>1</th>\n",
              "      <td>id602</td>\n",
              "      <td>name602</td>\n",
              "      <td>north</td>\n",
              "      <td>1780</td>\n",
              "      <td>42</td>\n",
              "      <td>9</td>\n",
              "      <td>734118.0</td>\n",
              "      <td>maize</td>\n",
              "      <td>arable_dev</td>\n",
              "      <td>245354.0</td>\n",
              "    </tr>\n",
              "    <tr>\n",
              "      <th>2</th>\n",
              "      <td>id603</td>\n",
              "      <td>name603</td>\n",
              "      <td>midlands</td>\n",
              "      <td>500</td>\n",
              "      <td>69</td>\n",
              "      <td>7</td>\n",
              "      <td>231965.0</td>\n",
              "      <td>rapeseed</td>\n",
              "      <td>decommission_land</td>\n",
              "      <td>84213.0</td>\n",
              "    </tr>\n",
              "    <tr>\n",
              "      <th>3</th>\n",
              "      <td>id604</td>\n",
              "      <td>name604</td>\n",
              "      <td>southwest</td>\n",
              "      <td>1860</td>\n",
              "      <td>103</td>\n",
              "      <td>3</td>\n",
              "      <td>625251.0</td>\n",
              "      <td>potatoes</td>\n",
              "      <td>decommission_land</td>\n",
              "      <td>281082.0</td>\n",
              "    </tr>\n",
              "    <tr>\n",
              "      <th>4</th>\n",
              "      <td>id605</td>\n",
              "      <td>name605</td>\n",
              "      <td>north</td>\n",
              "      <td>1700</td>\n",
              "      <td>46</td>\n",
              "      <td>8</td>\n",
              "      <td>621148.0</td>\n",
              "      <td>wheat</td>\n",
              "      <td>decommission_land</td>\n",
              "      <td>122006.0</td>\n",
              "    </tr>\n",
              "  </tbody>\n",
              "</table>\n",
              "</div>\n",
              "      <button class=\"colab-df-convert\" onclick=\"convertToInteractive('df-4e89b8d5-6cf6-45ba-b185-f0c51927e8ab')\"\n",
              "              title=\"Convert this dataframe to an interactive table.\"\n",
              "              style=\"display:none;\">\n",
              "        \n",
              "  <svg xmlns=\"http://www.w3.org/2000/svg\" height=\"24px\"viewBox=\"0 0 24 24\"\n",
              "       width=\"24px\">\n",
              "    <path d=\"M0 0h24v24H0V0z\" fill=\"none\"/>\n",
              "    <path d=\"M18.56 5.44l.94 2.06.94-2.06 2.06-.94-2.06-.94-.94-2.06-.94 2.06-2.06.94zm-11 1L8.5 8.5l.94-2.06 2.06-.94-2.06-.94L8.5 2.5l-.94 2.06-2.06.94zm10 10l.94 2.06.94-2.06 2.06-.94-2.06-.94-.94-2.06-.94 2.06-2.06.94z\"/><path d=\"M17.41 7.96l-1.37-1.37c-.4-.4-.92-.59-1.43-.59-.52 0-1.04.2-1.43.59L10.3 9.45l-7.72 7.72c-.78.78-.78 2.05 0 2.83L4 21.41c.39.39.9.59 1.41.59.51 0 1.02-.2 1.41-.59l7.78-7.78 2.81-2.81c.8-.78.8-2.07 0-2.86zM5.41 20L4 18.59l7.72-7.72 1.47 1.35L5.41 20z\"/>\n",
              "  </svg>\n",
              "      </button>\n",
              "      \n",
              "  <style>\n",
              "    .colab-df-container {\n",
              "      display:flex;\n",
              "      flex-wrap:wrap;\n",
              "      gap: 12px;\n",
              "    }\n",
              "\n",
              "    .colab-df-convert {\n",
              "      background-color: #E8F0FE;\n",
              "      border: none;\n",
              "      border-radius: 50%;\n",
              "      cursor: pointer;\n",
              "      display: none;\n",
              "      fill: #1967D2;\n",
              "      height: 32px;\n",
              "      padding: 0 0 0 0;\n",
              "      width: 32px;\n",
              "    }\n",
              "\n",
              "    .colab-df-convert:hover {\n",
              "      background-color: #E2EBFA;\n",
              "      box-shadow: 0px 1px 2px rgba(60, 64, 67, 0.3), 0px 1px 3px 1px rgba(60, 64, 67, 0.15);\n",
              "      fill: #174EA6;\n",
              "    }\n",
              "\n",
              "    [theme=dark] .colab-df-convert {\n",
              "      background-color: #3B4455;\n",
              "      fill: #D2E3FC;\n",
              "    }\n",
              "\n",
              "    [theme=dark] .colab-df-convert:hover {\n",
              "      background-color: #434B5C;\n",
              "      box-shadow: 0px 1px 3px 1px rgba(0, 0, 0, 0.15);\n",
              "      filter: drop-shadow(0px 1px 2px rgba(0, 0, 0, 0.3));\n",
              "      fill: #FFFFFF;\n",
              "    }\n",
              "  </style>\n",
              "\n",
              "      <script>\n",
              "        const buttonEl =\n",
              "          document.querySelector('#df-4e89b8d5-6cf6-45ba-b185-f0c51927e8ab button.colab-df-convert');\n",
              "        buttonEl.style.display =\n",
              "          google.colab.kernel.accessAllowed ? 'block' : 'none';\n",
              "\n",
              "        async function convertToInteractive(key) {\n",
              "          const element = document.querySelector('#df-4e89b8d5-6cf6-45ba-b185-f0c51927e8ab');\n",
              "          const dataTable =\n",
              "            await google.colab.kernel.invokeFunction('convertToInteractive',\n",
              "                                                     [key], {});\n",
              "          if (!dataTable) return;\n",
              "\n",
              "          const docLinkHtml = 'Like what you see? Visit the ' +\n",
              "            '<a target=\"_blank\" href=https://colab.research.google.com/notebooks/data_table.ipynb>data table notebook</a>'\n",
              "            + ' to learn more about interactive tables.';\n",
              "          element.innerHTML = '';\n",
              "          dataTable['output_type'] = 'display_data';\n",
              "          await google.colab.output.renderOutput(dataTable, element);\n",
              "          const docLink = document.createElement('div');\n",
              "          docLink.innerHTML = docLinkHtml;\n",
              "          element.appendChild(docLink);\n",
              "        }\n",
              "      </script>\n",
              "    </div>\n",
              "  </div>\n",
              "  "
            ]
          },
          "metadata": {},
          "execution_count": 2
        }
      ]
    },
    {
      "cell_type": "code",
      "source": [
        "# بدئن گذاشتن اکسیس یعنی نالهای ستون را نمایش می دهد\n",
        "df_f.isnull().sum()"
      ],
      "metadata": {
        "colab": {
          "base_uri": "https://localhost:8080/"
        },
        "id": "kIA5U-fxnwHO",
        "outputId": "ba0a39b0-d786-4ed6-a178-8ae0a18c4815"
      },
      "execution_count": 4,
      "outputs": [
        {
          "output_type": "execute_result",
          "data": {
            "text/plain": [
              "id             0\n",
              "name           0\n",
              "region         0\n",
              "farmsize       0\n",
              "rainfall       0\n",
              "landquality    0\n",
              "farmincome     0\n",
              "maincrop       0\n",
              "claimtype      0\n",
              "claimvalue     0\n",
              "dtype: int64"
            ]
          },
          "metadata": {},
          "execution_count": 4
        }
      ]
    },
    {
      "cell_type": "code",
      "source": [
        "df_t=pd.read_excel('/content/Telco - classification or clustering.xls')\n",
        "df_t.head()"
      ],
      "metadata": {
        "colab": {
          "base_uri": "https://localhost:8080/",
          "height": 280
        },
        "id": "BXQwZsr4oXfE",
        "outputId": "581cbff3-9e30-4f3d-eae9-1c324b5a975b"
      },
      "execution_count": 5,
      "outputs": [
        {
          "output_type": "execute_result",
          "data": {
            "text/plain": [
              "   region  tenure  age  marital  address  income  ed  employ  retire  gender  \\\n",
              "0       2      13   44        1        9      64   4       5       0       0   \n",
              "1       3      11   33        1        7     136   5       5       0       0   \n",
              "2       3      68   52        1       24     116   1      29       0       1   \n",
              "3       2      33   33        0       12      33   2       0       0       1   \n",
              "4       2      23   30        1        9      30   1       2       0       0   \n",
              "\n",
              "   ...  confer  ebill   loglong   logtoll  logequi   logcard   logwire  \\\n",
              "0  ...       0      0  1.308333       NaN      NaN  2.014903       NaN   \n",
              "1  ...       1      0  1.481605  3.032546      NaN  2.724580  3.575151   \n",
              "2  ...       1      0  2.898671  2.890372      NaN  3.409496       NaN   \n",
              "3  ...       0      0  2.246015       NaN      NaN       NaN       NaN   \n",
              "4  ...       1      0  1.840550       NaN      NaN       NaN       NaN   \n",
              "\n",
              "      lninc  custcat  churn  \n",
              "0  4.158883        1      1  \n",
              "1  4.912655        4      1  \n",
              "2  4.753590        3      0  \n",
              "3  3.496508        1      1  \n",
              "4  3.401197        3      0  \n",
              "\n",
              "[5 rows x 42 columns]"
            ],
            "text/html": [
              "\n",
              "  <div id=\"df-f762f457-ab1d-4e9b-8f7d-82c59d0b975d\">\n",
              "    <div class=\"colab-df-container\">\n",
              "      <div>\n",
              "<style scoped>\n",
              "    .dataframe tbody tr th:only-of-type {\n",
              "        vertical-align: middle;\n",
              "    }\n",
              "\n",
              "    .dataframe tbody tr th {\n",
              "        vertical-align: top;\n",
              "    }\n",
              "\n",
              "    .dataframe thead th {\n",
              "        text-align: right;\n",
              "    }\n",
              "</style>\n",
              "<table border=\"1\" class=\"dataframe\">\n",
              "  <thead>\n",
              "    <tr style=\"text-align: right;\">\n",
              "      <th></th>\n",
              "      <th>region</th>\n",
              "      <th>tenure</th>\n",
              "      <th>age</th>\n",
              "      <th>marital</th>\n",
              "      <th>address</th>\n",
              "      <th>income</th>\n",
              "      <th>ed</th>\n",
              "      <th>employ</th>\n",
              "      <th>retire</th>\n",
              "      <th>gender</th>\n",
              "      <th>...</th>\n",
              "      <th>confer</th>\n",
              "      <th>ebill</th>\n",
              "      <th>loglong</th>\n",
              "      <th>logtoll</th>\n",
              "      <th>logequi</th>\n",
              "      <th>logcard</th>\n",
              "      <th>logwire</th>\n",
              "      <th>lninc</th>\n",
              "      <th>custcat</th>\n",
              "      <th>churn</th>\n",
              "    </tr>\n",
              "  </thead>\n",
              "  <tbody>\n",
              "    <tr>\n",
              "      <th>0</th>\n",
              "      <td>2</td>\n",
              "      <td>13</td>\n",
              "      <td>44</td>\n",
              "      <td>1</td>\n",
              "      <td>9</td>\n",
              "      <td>64</td>\n",
              "      <td>4</td>\n",
              "      <td>5</td>\n",
              "      <td>0</td>\n",
              "      <td>0</td>\n",
              "      <td>...</td>\n",
              "      <td>0</td>\n",
              "      <td>0</td>\n",
              "      <td>1.308333</td>\n",
              "      <td>NaN</td>\n",
              "      <td>NaN</td>\n",
              "      <td>2.014903</td>\n",
              "      <td>NaN</td>\n",
              "      <td>4.158883</td>\n",
              "      <td>1</td>\n",
              "      <td>1</td>\n",
              "    </tr>\n",
              "    <tr>\n",
              "      <th>1</th>\n",
              "      <td>3</td>\n",
              "      <td>11</td>\n",
              "      <td>33</td>\n",
              "      <td>1</td>\n",
              "      <td>7</td>\n",
              "      <td>136</td>\n",
              "      <td>5</td>\n",
              "      <td>5</td>\n",
              "      <td>0</td>\n",
              "      <td>0</td>\n",
              "      <td>...</td>\n",
              "      <td>1</td>\n",
              "      <td>0</td>\n",
              "      <td>1.481605</td>\n",
              "      <td>3.032546</td>\n",
              "      <td>NaN</td>\n",
              "      <td>2.724580</td>\n",
              "      <td>3.575151</td>\n",
              "      <td>4.912655</td>\n",
              "      <td>4</td>\n",
              "      <td>1</td>\n",
              "    </tr>\n",
              "    <tr>\n",
              "      <th>2</th>\n",
              "      <td>3</td>\n",
              "      <td>68</td>\n",
              "      <td>52</td>\n",
              "      <td>1</td>\n",
              "      <td>24</td>\n",
              "      <td>116</td>\n",
              "      <td>1</td>\n",
              "      <td>29</td>\n",
              "      <td>0</td>\n",
              "      <td>1</td>\n",
              "      <td>...</td>\n",
              "      <td>1</td>\n",
              "      <td>0</td>\n",
              "      <td>2.898671</td>\n",
              "      <td>2.890372</td>\n",
              "      <td>NaN</td>\n",
              "      <td>3.409496</td>\n",
              "      <td>NaN</td>\n",
              "      <td>4.753590</td>\n",
              "      <td>3</td>\n",
              "      <td>0</td>\n",
              "    </tr>\n",
              "    <tr>\n",
              "      <th>3</th>\n",
              "      <td>2</td>\n",
              "      <td>33</td>\n",
              "      <td>33</td>\n",
              "      <td>0</td>\n",
              "      <td>12</td>\n",
              "      <td>33</td>\n",
              "      <td>2</td>\n",
              "      <td>0</td>\n",
              "      <td>0</td>\n",
              "      <td>1</td>\n",
              "      <td>...</td>\n",
              "      <td>0</td>\n",
              "      <td>0</td>\n",
              "      <td>2.246015</td>\n",
              "      <td>NaN</td>\n",
              "      <td>NaN</td>\n",
              "      <td>NaN</td>\n",
              "      <td>NaN</td>\n",
              "      <td>3.496508</td>\n",
              "      <td>1</td>\n",
              "      <td>1</td>\n",
              "    </tr>\n",
              "    <tr>\n",
              "      <th>4</th>\n",
              "      <td>2</td>\n",
              "      <td>23</td>\n",
              "      <td>30</td>\n",
              "      <td>1</td>\n",
              "      <td>9</td>\n",
              "      <td>30</td>\n",
              "      <td>1</td>\n",
              "      <td>2</td>\n",
              "      <td>0</td>\n",
              "      <td>0</td>\n",
              "      <td>...</td>\n",
              "      <td>1</td>\n",
              "      <td>0</td>\n",
              "      <td>1.840550</td>\n",
              "      <td>NaN</td>\n",
              "      <td>NaN</td>\n",
              "      <td>NaN</td>\n",
              "      <td>NaN</td>\n",
              "      <td>3.401197</td>\n",
              "      <td>3</td>\n",
              "      <td>0</td>\n",
              "    </tr>\n",
              "  </tbody>\n",
              "</table>\n",
              "<p>5 rows × 42 columns</p>\n",
              "</div>\n",
              "      <button class=\"colab-df-convert\" onclick=\"convertToInteractive('df-f762f457-ab1d-4e9b-8f7d-82c59d0b975d')\"\n",
              "              title=\"Convert this dataframe to an interactive table.\"\n",
              "              style=\"display:none;\">\n",
              "        \n",
              "  <svg xmlns=\"http://www.w3.org/2000/svg\" height=\"24px\"viewBox=\"0 0 24 24\"\n",
              "       width=\"24px\">\n",
              "    <path d=\"M0 0h24v24H0V0z\" fill=\"none\"/>\n",
              "    <path d=\"M18.56 5.44l.94 2.06.94-2.06 2.06-.94-2.06-.94-.94-2.06-.94 2.06-2.06.94zm-11 1L8.5 8.5l.94-2.06 2.06-.94-2.06-.94L8.5 2.5l-.94 2.06-2.06.94zm10 10l.94 2.06.94-2.06 2.06-.94-2.06-.94-.94-2.06-.94 2.06-2.06.94z\"/><path d=\"M17.41 7.96l-1.37-1.37c-.4-.4-.92-.59-1.43-.59-.52 0-1.04.2-1.43.59L10.3 9.45l-7.72 7.72c-.78.78-.78 2.05 0 2.83L4 21.41c.39.39.9.59 1.41.59.51 0 1.02-.2 1.41-.59l7.78-7.78 2.81-2.81c.8-.78.8-2.07 0-2.86zM5.41 20L4 18.59l7.72-7.72 1.47 1.35L5.41 20z\"/>\n",
              "  </svg>\n",
              "      </button>\n",
              "      \n",
              "  <style>\n",
              "    .colab-df-container {\n",
              "      display:flex;\n",
              "      flex-wrap:wrap;\n",
              "      gap: 12px;\n",
              "    }\n",
              "\n",
              "    .colab-df-convert {\n",
              "      background-color: #E8F0FE;\n",
              "      border: none;\n",
              "      border-radius: 50%;\n",
              "      cursor: pointer;\n",
              "      display: none;\n",
              "      fill: #1967D2;\n",
              "      height: 32px;\n",
              "      padding: 0 0 0 0;\n",
              "      width: 32px;\n",
              "    }\n",
              "\n",
              "    .colab-df-convert:hover {\n",
              "      background-color: #E2EBFA;\n",
              "      box-shadow: 0px 1px 2px rgba(60, 64, 67, 0.3), 0px 1px 3px 1px rgba(60, 64, 67, 0.15);\n",
              "      fill: #174EA6;\n",
              "    }\n",
              "\n",
              "    [theme=dark] .colab-df-convert {\n",
              "      background-color: #3B4455;\n",
              "      fill: #D2E3FC;\n",
              "    }\n",
              "\n",
              "    [theme=dark] .colab-df-convert:hover {\n",
              "      background-color: #434B5C;\n",
              "      box-shadow: 0px 1px 3px 1px rgba(0, 0, 0, 0.15);\n",
              "      filter: drop-shadow(0px 1px 2px rgba(0, 0, 0, 0.3));\n",
              "      fill: #FFFFFF;\n",
              "    }\n",
              "  </style>\n",
              "\n",
              "      <script>\n",
              "        const buttonEl =\n",
              "          document.querySelector('#df-f762f457-ab1d-4e9b-8f7d-82c59d0b975d button.colab-df-convert');\n",
              "        buttonEl.style.display =\n",
              "          google.colab.kernel.accessAllowed ? 'block' : 'none';\n",
              "\n",
              "        async function convertToInteractive(key) {\n",
              "          const element = document.querySelector('#df-f762f457-ab1d-4e9b-8f7d-82c59d0b975d');\n",
              "          const dataTable =\n",
              "            await google.colab.kernel.invokeFunction('convertToInteractive',\n",
              "                                                     [key], {});\n",
              "          if (!dataTable) return;\n",
              "\n",
              "          const docLinkHtml = 'Like what you see? Visit the ' +\n",
              "            '<a target=\"_blank\" href=https://colab.research.google.com/notebooks/data_table.ipynb>data table notebook</a>'\n",
              "            + ' to learn more about interactive tables.';\n",
              "          element.innerHTML = '';\n",
              "          dataTable['output_type'] = 'display_data';\n",
              "          await google.colab.output.renderOutput(dataTable, element);\n",
              "          const docLink = document.createElement('div');\n",
              "          docLink.innerHTML = docLinkHtml;\n",
              "          element.appendChild(docLink);\n",
              "        }\n",
              "      </script>\n",
              "    </div>\n",
              "  </div>\n",
              "  "
            ]
          },
          "metadata": {},
          "execution_count": 5
        }
      ]
    },
    {
      "cell_type": "code",
      "source": [
        "df_t.isnull().sum()"
      ],
      "metadata": {
        "colab": {
          "base_uri": "https://localhost:8080/"
        },
        "id": "DFh88F6uofvl",
        "outputId": "d7a9f450-093f-4511-dc2d-ca022d3a138a"
      },
      "execution_count": 7,
      "outputs": [
        {
          "output_type": "execute_result",
          "data": {
            "text/plain": [
              "region        0\n",
              "tenure        0\n",
              "age           0\n",
              "marital       0\n",
              "address       0\n",
              "income        0\n",
              "ed            0\n",
              "employ        0\n",
              "retire        0\n",
              "gender        0\n",
              "reside        0\n",
              "tollfree      0\n",
              "equip         0\n",
              "callcard      0\n",
              "wireless      0\n",
              "longmon       0\n",
              "tollmon       0\n",
              "equipmon      0\n",
              "cardmon       0\n",
              "wiremon       0\n",
              "longten       0\n",
              "tollten       0\n",
              "equipten      0\n",
              "cardten       0\n",
              "wireten       0\n",
              "multline      0\n",
              "voice         0\n",
              "pager         0\n",
              "internet      0\n",
              "callid        0\n",
              "callwait      0\n",
              "forward       0\n",
              "confer        0\n",
              "ebill         0\n",
              "loglong       0\n",
              "logtoll     525\n",
              "logequi     614\n",
              "logcard     322\n",
              "logwire     704\n",
              "lninc         0\n",
              "custcat       0\n",
              "churn         0\n",
              "dtype: int64"
            ]
          },
          "metadata": {},
          "execution_count": 7
        }
      ]
    },
    {
      "cell_type": "code",
      "source": [
        "#درصد Null\n",
        "df_t.isnull().mean()"
      ],
      "metadata": {
        "colab": {
          "base_uri": "https://localhost:8080/"
        },
        "id": "UL7tU4FfopR2",
        "outputId": "55300646-e2c7-4495-94b7-1c2e29d64839"
      },
      "execution_count": 8,
      "outputs": [
        {
          "output_type": "execute_result",
          "data": {
            "text/plain": [
              "region      0.000\n",
              "tenure      0.000\n",
              "age         0.000\n",
              "marital     0.000\n",
              "address     0.000\n",
              "income      0.000\n",
              "ed          0.000\n",
              "employ      0.000\n",
              "retire      0.000\n",
              "gender      0.000\n",
              "reside      0.000\n",
              "tollfree    0.000\n",
              "equip       0.000\n",
              "callcard    0.000\n",
              "wireless    0.000\n",
              "longmon     0.000\n",
              "tollmon     0.000\n",
              "equipmon    0.000\n",
              "cardmon     0.000\n",
              "wiremon     0.000\n",
              "longten     0.000\n",
              "tollten     0.000\n",
              "equipten    0.000\n",
              "cardten     0.000\n",
              "wireten     0.000\n",
              "multline    0.000\n",
              "voice       0.000\n",
              "pager       0.000\n",
              "internet    0.000\n",
              "callid      0.000\n",
              "callwait    0.000\n",
              "forward     0.000\n",
              "confer      0.000\n",
              "ebill       0.000\n",
              "loglong     0.000\n",
              "logtoll     0.525\n",
              "logequi     0.614\n",
              "logcard     0.322\n",
              "logwire     0.704\n",
              "lninc       0.000\n",
              "custcat     0.000\n",
              "churn       0.000\n",
              "dtype: float64"
            ]
          },
          "metadata": {},
          "execution_count": 8
        }
      ]
    },
    {
      "cell_type": "code",
      "source": [
        "#  درآمد افراد کمتر از 22 سال افزایش 100 داشته باشد\n",
        "df_t[df_t['age']<22]['income']=df_t[df_t['age']<22]['income']+200\n"
      ],
      "metadata": {
        "id": "UUbv37_YrSYY"
      },
      "execution_count": 23,
      "outputs": []
    },
    {
      "cell_type": "code",
      "source": [
        "df_t[df_t['age']<22]['income']"
      ],
      "metadata": {
        "colab": {
          "base_uri": "https://localhost:8080/"
        },
        "id": "Ey7Bd9ZVtDkH",
        "outputId": "6240128d-435d-43a5-ce3d-b93249b2aa43"
      },
      "execution_count": 24,
      "outputs": [
        {
          "output_type": "execute_result",
          "data": {
            "text/plain": [
              "25     33\n",
              "28     17\n",
              "94     17\n",
              "100    17\n",
              "192    19\n",
              "238    21\n",
              "243    25\n",
              "304    18\n",
              "383    15\n",
              "419    21\n",
              "434    20\n",
              "448    18\n",
              "534    15\n",
              "599    21\n",
              "610    25\n",
              "662    36\n",
              "668    15\n",
              "816    20\n",
              "829    18\n",
              "835    20\n",
              "845    15\n",
              "957    25\n",
              "981    18\n",
              "Name: income, dtype: int64"
            ]
          },
          "metadata": {},
          "execution_count": 24
        }
      ]
    },
    {
      "cell_type": "code",
      "source": [
        "import warnings\n",
        "warnings.filterwarnings('ignore')"
      ],
      "metadata": {
        "id": "YEY3uPMvtjYP"
      },
      "execution_count": 20,
      "outputs": []
    },
    {
      "cell_type": "code",
      "source": [
        "df_t['NewFeature']=10\n",
        "df_t['NewFeature']=df_t['income']/df_t['age']\n",
        "df_t['NewFeature']"
      ],
      "metadata": {
        "colab": {
          "base_uri": "https://localhost:8080/"
        },
        "id": "oNHdXGr2uF68",
        "outputId": "06ad41e5-ff7e-46fa-aaad-f189095a6060"
      },
      "execution_count": 30,
      "outputs": [
        {
          "output_type": "execute_result",
          "data": {
            "text/plain": [
              "0       1.454545\n",
              "1       4.121212\n",
              "2       2.230769\n",
              "3       1.000000\n",
              "4       1.000000\n",
              "         ...    \n",
              "995     0.692308\n",
              "996     0.647059\n",
              "997    16.000000\n",
              "998     1.775510\n",
              "999     1.083333\n",
              "Name: NewFeature, Length: 1000, dtype: float64"
            ]
          },
          "metadata": {},
          "execution_count": 30
        }
      ]
    },
    {
      "cell_type": "code",
      "source": [
        "df_t['newtest']=np.log(df_t['income'])\n",
        "df_t['newtest']"
      ],
      "metadata": {
        "colab": {
          "base_uri": "https://localhost:8080/"
        },
        "id": "F6tsW8-5ukxo",
        "outputId": "692ec4c4-34ef-4227-8da2-0ed385b7c116"
      },
      "execution_count": 31,
      "outputs": [
        {
          "output_type": "execute_result",
          "data": {
            "text/plain": [
              "0      4.158883\n",
              "1      4.912655\n",
              "2      4.753590\n",
              "3      3.496508\n",
              "4      3.401197\n",
              "         ...   \n",
              "995    3.295837\n",
              "996    3.091042\n",
              "997    6.850126\n",
              "998    4.465908\n",
              "999    3.663562\n",
              "Name: newtest, Length: 1000, dtype: float64"
            ]
          },
          "metadata": {},
          "execution_count": 31
        }
      ]
    },
    {
      "cell_type": "code",
      "source": [
        "df1=df_f.copy()\n",
        "df1"
      ],
      "metadata": {
        "id": "-Pbbm8cZvJr2"
      },
      "execution_count": 32,
      "outputs": []
    },
    {
      "cell_type": "code",
      "source": [
        "del df1"
      ],
      "metadata": {
        "id": "8K542nul3APR"
      },
      "execution_count": null,
      "outputs": []
    }
  ]
}