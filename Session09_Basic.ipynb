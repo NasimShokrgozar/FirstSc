{
  "nbformat": 4,
  "nbformat_minor": 0,
  "metadata": {
    "colab": {
      "provenance": [],
      "authorship_tag": "ABX9TyNHNgSj4pejS4HjBW/fPPQA",
      "include_colab_link": true
    },
    "kernelspec": {
      "name": "python3",
      "display_name": "Python 3"
    },
    "language_info": {
      "name": "python"
    }
  },
  "cells": [
    {
      "cell_type": "markdown",
      "metadata": {
        "id": "view-in-github",
        "colab_type": "text"
      },
      "source": [
        "<a href=\"https://colab.research.google.com/github/NasimShokrgozar/FirstSc/blob/main/Session09_Basic.ipynb\" target=\"_parent\"><img src=\"https://colab.research.google.com/assets/colab-badge.svg\" alt=\"Open In Colab\"/></a>"
      ]
    },
    {
      "cell_type": "code",
      "execution_count": 1,
      "metadata": {
        "id": "YEd01AaTgGBi"
      },
      "outputs": [],
      "source": [
        "import numpy as np\n",
        "import pandas as pd\n",
        "import warnings\n",
        "warnings.filterwarnings('ignore')\n",
        "import matplotlib.pyplot as plt"
      ]
    },
    {
      "cell_type": "code",
      "source": [
        "df_t=pd.read_excel('/content/Telco - classification or clustering.xls')\n",
        "df_t.head()"
      ],
      "metadata": {
        "colab": {
          "base_uri": "https://localhost:8080/",
          "height": 236
        },
        "id": "Z6Zmgk4Fh3gH",
        "outputId": "d020b856-c9f0-4143-8630-fbf08332bf81"
      },
      "execution_count": 2,
      "outputs": [
        {
          "output_type": "execute_result",
          "data": {
            "text/plain": [
              "   region  tenure  age  marital  address  income  ed  employ  retire  gender  \\\n",
              "0       2      13   44        1        9      64   4       5       0       0   \n",
              "1       3      11   33        1        7     136   5       5       0       0   \n",
              "2       3      68   52        1       24     116   1      29       0       1   \n",
              "3       2      33   33        0       12      33   2       0       0       1   \n",
              "4       2      23   30        1        9      30   1       2       0       0   \n",
              "\n",
              "   ...  confer  ebill   loglong   logtoll  logequi   logcard   logwire  \\\n",
              "0  ...       0      0  1.308333       NaN      NaN  2.014903       NaN   \n",
              "1  ...       1      0  1.481605  3.032546      NaN  2.724580  3.575151   \n",
              "2  ...       1      0  2.898671  2.890372      NaN  3.409496       NaN   \n",
              "3  ...       0      0  2.246015       NaN      NaN       NaN       NaN   \n",
              "4  ...       1      0  1.840550       NaN      NaN       NaN       NaN   \n",
              "\n",
              "      lninc  custcat  churn  \n",
              "0  4.158883        1      1  \n",
              "1  4.912655        4      1  \n",
              "2  4.753590        3      0  \n",
              "3  3.496508        1      1  \n",
              "4  3.401197        3      0  \n",
              "\n",
              "[5 rows x 42 columns]"
            ],
            "text/html": [
              "\n",
              "  <div id=\"df-4ee79d17-cce8-4c3a-bbb1-fdce361a83d8\">\n",
              "    <div class=\"colab-df-container\">\n",
              "      <div>\n",
              "<style scoped>\n",
              "    .dataframe tbody tr th:only-of-type {\n",
              "        vertical-align: middle;\n",
              "    }\n",
              "\n",
              "    .dataframe tbody tr th {\n",
              "        vertical-align: top;\n",
              "    }\n",
              "\n",
              "    .dataframe thead th {\n",
              "        text-align: right;\n",
              "    }\n",
              "</style>\n",
              "<table border=\"1\" class=\"dataframe\">\n",
              "  <thead>\n",
              "    <tr style=\"text-align: right;\">\n",
              "      <th></th>\n",
              "      <th>region</th>\n",
              "      <th>tenure</th>\n",
              "      <th>age</th>\n",
              "      <th>marital</th>\n",
              "      <th>address</th>\n",
              "      <th>income</th>\n",
              "      <th>ed</th>\n",
              "      <th>employ</th>\n",
              "      <th>retire</th>\n",
              "      <th>gender</th>\n",
              "      <th>...</th>\n",
              "      <th>confer</th>\n",
              "      <th>ebill</th>\n",
              "      <th>loglong</th>\n",
              "      <th>logtoll</th>\n",
              "      <th>logequi</th>\n",
              "      <th>logcard</th>\n",
              "      <th>logwire</th>\n",
              "      <th>lninc</th>\n",
              "      <th>custcat</th>\n",
              "      <th>churn</th>\n",
              "    </tr>\n",
              "  </thead>\n",
              "  <tbody>\n",
              "    <tr>\n",
              "      <th>0</th>\n",
              "      <td>2</td>\n",
              "      <td>13</td>\n",
              "      <td>44</td>\n",
              "      <td>1</td>\n",
              "      <td>9</td>\n",
              "      <td>64</td>\n",
              "      <td>4</td>\n",
              "      <td>5</td>\n",
              "      <td>0</td>\n",
              "      <td>0</td>\n",
              "      <td>...</td>\n",
              "      <td>0</td>\n",
              "      <td>0</td>\n",
              "      <td>1.308333</td>\n",
              "      <td>NaN</td>\n",
              "      <td>NaN</td>\n",
              "      <td>2.014903</td>\n",
              "      <td>NaN</td>\n",
              "      <td>4.158883</td>\n",
              "      <td>1</td>\n",
              "      <td>1</td>\n",
              "    </tr>\n",
              "    <tr>\n",
              "      <th>1</th>\n",
              "      <td>3</td>\n",
              "      <td>11</td>\n",
              "      <td>33</td>\n",
              "      <td>1</td>\n",
              "      <td>7</td>\n",
              "      <td>136</td>\n",
              "      <td>5</td>\n",
              "      <td>5</td>\n",
              "      <td>0</td>\n",
              "      <td>0</td>\n",
              "      <td>...</td>\n",
              "      <td>1</td>\n",
              "      <td>0</td>\n",
              "      <td>1.481605</td>\n",
              "      <td>3.032546</td>\n",
              "      <td>NaN</td>\n",
              "      <td>2.724580</td>\n",
              "      <td>3.575151</td>\n",
              "      <td>4.912655</td>\n",
              "      <td>4</td>\n",
              "      <td>1</td>\n",
              "    </tr>\n",
              "    <tr>\n",
              "      <th>2</th>\n",
              "      <td>3</td>\n",
              "      <td>68</td>\n",
              "      <td>52</td>\n",
              "      <td>1</td>\n",
              "      <td>24</td>\n",
              "      <td>116</td>\n",
              "      <td>1</td>\n",
              "      <td>29</td>\n",
              "      <td>0</td>\n",
              "      <td>1</td>\n",
              "      <td>...</td>\n",
              "      <td>1</td>\n",
              "      <td>0</td>\n",
              "      <td>2.898671</td>\n",
              "      <td>2.890372</td>\n",
              "      <td>NaN</td>\n",
              "      <td>3.409496</td>\n",
              "      <td>NaN</td>\n",
              "      <td>4.753590</td>\n",
              "      <td>3</td>\n",
              "      <td>0</td>\n",
              "    </tr>\n",
              "    <tr>\n",
              "      <th>3</th>\n",
              "      <td>2</td>\n",
              "      <td>33</td>\n",
              "      <td>33</td>\n",
              "      <td>0</td>\n",
              "      <td>12</td>\n",
              "      <td>33</td>\n",
              "      <td>2</td>\n",
              "      <td>0</td>\n",
              "      <td>0</td>\n",
              "      <td>1</td>\n",
              "      <td>...</td>\n",
              "      <td>0</td>\n",
              "      <td>0</td>\n",
              "      <td>2.246015</td>\n",
              "      <td>NaN</td>\n",
              "      <td>NaN</td>\n",
              "      <td>NaN</td>\n",
              "      <td>NaN</td>\n",
              "      <td>3.496508</td>\n",
              "      <td>1</td>\n",
              "      <td>1</td>\n",
              "    </tr>\n",
              "    <tr>\n",
              "      <th>4</th>\n",
              "      <td>2</td>\n",
              "      <td>23</td>\n",
              "      <td>30</td>\n",
              "      <td>1</td>\n",
              "      <td>9</td>\n",
              "      <td>30</td>\n",
              "      <td>1</td>\n",
              "      <td>2</td>\n",
              "      <td>0</td>\n",
              "      <td>0</td>\n",
              "      <td>...</td>\n",
              "      <td>1</td>\n",
              "      <td>0</td>\n",
              "      <td>1.840550</td>\n",
              "      <td>NaN</td>\n",
              "      <td>NaN</td>\n",
              "      <td>NaN</td>\n",
              "      <td>NaN</td>\n",
              "      <td>3.401197</td>\n",
              "      <td>3</td>\n",
              "      <td>0</td>\n",
              "    </tr>\n",
              "  </tbody>\n",
              "</table>\n",
              "<p>5 rows × 42 columns</p>\n",
              "</div>\n",
              "      <button class=\"colab-df-convert\" onclick=\"convertToInteractive('df-4ee79d17-cce8-4c3a-bbb1-fdce361a83d8')\"\n",
              "              title=\"Convert this dataframe to an interactive table.\"\n",
              "              style=\"display:none;\">\n",
              "        \n",
              "  <svg xmlns=\"http://www.w3.org/2000/svg\" height=\"24px\"viewBox=\"0 0 24 24\"\n",
              "       width=\"24px\">\n",
              "    <path d=\"M0 0h24v24H0V0z\" fill=\"none\"/>\n",
              "    <path d=\"M18.56 5.44l.94 2.06.94-2.06 2.06-.94-2.06-.94-.94-2.06-.94 2.06-2.06.94zm-11 1L8.5 8.5l.94-2.06 2.06-.94-2.06-.94L8.5 2.5l-.94 2.06-2.06.94zm10 10l.94 2.06.94-2.06 2.06-.94-2.06-.94-.94-2.06-.94 2.06-2.06.94z\"/><path d=\"M17.41 7.96l-1.37-1.37c-.4-.4-.92-.59-1.43-.59-.52 0-1.04.2-1.43.59L10.3 9.45l-7.72 7.72c-.78.78-.78 2.05 0 2.83L4 21.41c.39.39.9.59 1.41.59.51 0 1.02-.2 1.41-.59l7.78-7.78 2.81-2.81c.8-.78.8-2.07 0-2.86zM5.41 20L4 18.59l7.72-7.72 1.47 1.35L5.41 20z\"/>\n",
              "  </svg>\n",
              "      </button>\n",
              "      \n",
              "  <style>\n",
              "    .colab-df-container {\n",
              "      display:flex;\n",
              "      flex-wrap:wrap;\n",
              "      gap: 12px;\n",
              "    }\n",
              "\n",
              "    .colab-df-convert {\n",
              "      background-color: #E8F0FE;\n",
              "      border: none;\n",
              "      border-radius: 50%;\n",
              "      cursor: pointer;\n",
              "      display: none;\n",
              "      fill: #1967D2;\n",
              "      height: 32px;\n",
              "      padding: 0 0 0 0;\n",
              "      width: 32px;\n",
              "    }\n",
              "\n",
              "    .colab-df-convert:hover {\n",
              "      background-color: #E2EBFA;\n",
              "      box-shadow: 0px 1px 2px rgba(60, 64, 67, 0.3), 0px 1px 3px 1px rgba(60, 64, 67, 0.15);\n",
              "      fill: #174EA6;\n",
              "    }\n",
              "\n",
              "    [theme=dark] .colab-df-convert {\n",
              "      background-color: #3B4455;\n",
              "      fill: #D2E3FC;\n",
              "    }\n",
              "\n",
              "    [theme=dark] .colab-df-convert:hover {\n",
              "      background-color: #434B5C;\n",
              "      box-shadow: 0px 1px 3px 1px rgba(0, 0, 0, 0.15);\n",
              "      filter: drop-shadow(0px 1px 2px rgba(0, 0, 0, 0.3));\n",
              "      fill: #FFFFFF;\n",
              "    }\n",
              "  </style>\n",
              "\n",
              "      <script>\n",
              "        const buttonEl =\n",
              "          document.querySelector('#df-4ee79d17-cce8-4c3a-bbb1-fdce361a83d8 button.colab-df-convert');\n",
              "        buttonEl.style.display =\n",
              "          google.colab.kernel.accessAllowed ? 'block' : 'none';\n",
              "\n",
              "        async function convertToInteractive(key) {\n",
              "          const element = document.querySelector('#df-4ee79d17-cce8-4c3a-bbb1-fdce361a83d8');\n",
              "          const dataTable =\n",
              "            await google.colab.kernel.invokeFunction('convertToInteractive',\n",
              "                                                     [key], {});\n",
              "          if (!dataTable) return;\n",
              "\n",
              "          const docLinkHtml = 'Like what you see? Visit the ' +\n",
              "            '<a target=\"_blank\" href=https://colab.research.google.com/notebooks/data_table.ipynb>data table notebook</a>'\n",
              "            + ' to learn more about interactive tables.';\n",
              "          element.innerHTML = '';\n",
              "          dataTable['output_type'] = 'display_data';\n",
              "          await google.colab.output.renderOutput(dataTable, element);\n",
              "          const docLink = document.createElement('div');\n",
              "          docLink.innerHTML = docLinkHtml;\n",
              "          element.appendChild(docLink);\n",
              "        }\n",
              "      </script>\n",
              "    </div>\n",
              "  </div>\n",
              "  "
            ]
          },
          "metadata": {},
          "execution_count": 2
        }
      ]
    },
    {
      "cell_type": "code",
      "source": [
        "df_t=df_t.fillna(0)"
      ],
      "metadata": {
        "id": "m2f16vMNbyEf"
      },
      "execution_count": 4,
      "outputs": []
    },
    {
      "cell_type": "code",
      "source": [
        "X=df_t.drop('churn',axis=1)\n",
        "Y=df_t['churn']"
      ],
      "metadata": {
        "id": "2zEvNOTyiP3N"
      },
      "execution_count": 5,
      "outputs": []
    },
    {
      "cell_type": "code",
      "source": [
        "Y.value_counts().plot.bar()\n",
        "plt.show()"
      ],
      "metadata": {
        "colab": {
          "base_uri": "https://localhost:8080/",
          "height": 425
        },
        "id": "vUkrfSzlikMC",
        "outputId": "3881f5c1-d3d7-4a54-e78f-8f9390e04a05"
      },
      "execution_count": 6,
      "outputs": [
        {
          "output_type": "display_data",
          "data": {
            "text/plain": [
              "<Figure size 640x480 with 1 Axes>"
            ],
            "image/png": "[encoded data removed]"
          },
          "metadata": {}
        }
      ]
    },
    {
      "cell_type": "code",
      "source": [
        "Y.value_counts()"
      ],
      "metadata": {
        "colab": {
          "base_uri": "https://localhost:8080/"
        },
        "id": "h7cOaUtcj92m",
        "outputId": "65d6e286-a9ac-4d44-861f-5f9a8b9d623e"
      },
      "execution_count": 7,
      "outputs": [
        {
          "output_type": "execute_result",
          "data": {
            "text/plain": [
              "0    726\n",
              "1    274\n",
              "Name: churn, dtype: int64"
            ]
          },
          "metadata": {},
          "execution_count": 7
        }
      ]
    },
    {
      "cell_type": "code",
      "source": [
        "from sklearn.preprocessing import MinMaxScaler\n",
        "MMS=MinMaxScaler()\n",
        "MMS.fit(X)\n",
        "Xnormal=MMS.transform(X)\n",
        "#Xnomal=MMS.fit_transform(X)\n",
        "Xnormal=pd.DataFrame(Xnormal , columns=X.columns)# برای اینکه اسم سر ستون ها به حالت خود باقی بماند و به عدد تبدیل نشود این دستور کالمن را می نویسیم.\n",
        "Xnormal.head()"
      ],
      "metadata": {
        "colab": {
          "base_uri": "https://localhost:8080/",
          "height": 236
        },
        "id": "yHB3rtkCb5rf",
        "outputId": "715d32ea-f251-4156-83cc-edbd50efa30c"
      },
      "execution_count": 9,
      "outputs": [
        {
          "output_type": "execute_result",
          "data": {
            "text/plain": [
              "   region    tenure       age  marital   address    income    ed    employ  \\\n",
              "0     0.5  0.169014  0.440678      1.0  0.163636  0.033153  0.75  0.106383   \n",
              "1     1.0  0.140845  0.254237      1.0  0.127273  0.076552  1.00  0.106383   \n",
              "2     1.0  0.943662  0.576271      1.0  0.436364  0.064497  0.00  0.617021   \n",
              "3     0.5  0.450704  0.254237      0.0  0.218182  0.014467  0.25  0.000000   \n",
              "4     0.5  0.309859  0.203390      1.0  0.163636  0.012658  0.00  0.042553   \n",
              "\n",
              "   retire  gender  ...  forward  confer  ebill   loglong   logtoll  logequi  \\\n",
              "0     0.0     0.0  ...      1.0     0.0    0.0  0.300145  0.000000      0.0   \n",
              "1     0.0     0.0  ...      1.0     1.0    0.0  0.336933  0.588468      0.0   \n",
              "2     0.0     1.0  ...      0.0     1.0    0.0  0.637794  0.560879      0.0   \n",
              "3     0.0     1.0  ...      0.0     0.0    0.0  0.499227  0.000000      0.0   \n",
              "4     0.0     0.0  ...      1.0     1.0    0.0  0.413142  0.000000      0.0   \n",
              "\n",
              "    logcard  logwire     lninc   custcat  \n",
              "0  0.429284  0.00000  0.375641  0.000000  \n",
              "1  0.580483  0.75776  0.519983  1.000000  \n",
              "2  0.726408  0.00000  0.489523  0.666667  \n",
              "3  0.000000  0.00000  0.248802  0.000000  \n",
              "4  0.000000  0.00000  0.230551  0.666667  \n",
              "\n",
              "[5 rows x 41 columns]"
            ],
            "text/html": [
              "\n",
              "  <div id=\"df-ec65c85e-1a3f-4729-a6e1-480317971689\">\n",
              "    <div class=\"colab-df-container\">\n",
              "      <div>\n",
              "<style scoped>\n",
              "    .dataframe tbody tr th:only-of-type {\n",
              "        vertical-align: middle;\n",
              "    }\n",
              "\n",
              "    .dataframe tbody tr th {\n",
              "        vertical-align: top;\n",
              "    }\n",
              "\n",
              "    .dataframe thead th {\n",
              "        text-align: right;\n",
              "    }\n",
              "</style>\n",
              "<table border=\"1\" class=\"dataframe\">\n",
              "  <thead>\n",
              "    <tr style=\"text-align: right;\">\n",
              "      <th></th>\n",
              "      <th>region</th>\n",
              "      <th>tenure</th>\n",
              "      <th>age</th>\n",
              "      <th>marital</th>\n",
              "      <th>address</th>\n",
              "      <th>income</th>\n",
              "      <th>ed</th>\n",
              "      <th>employ</th>\n",
              "      <th>retire</th>\n",
              "      <th>gender</th>\n",
              "      <th>...</th>\n",
              "      <th>forward</th>\n",
              "      <th>confer</th>\n",
              "      <th>ebill</th>\n",
              "      <th>loglong</th>\n",
              "      <th>logtoll</th>\n",
              "      <th>logequi</th>\n",
              "      <th>logcard</th>\n",
              "      <th>logwire</th>\n",
              "      <th>lninc</th>\n",
              "      <th>custcat</th>\n",
              "    </tr>\n",
              "  </thead>\n",
              "  <tbody>\n",
              "    <tr>\n",
              "      <th>0</th>\n",
              "      <td>0.5</td>\n",
              "      <td>0.169014</td>\n",
              "      <td>0.440678</td>\n",
              "      <td>1.0</td>\n",
              "      <td>0.163636</td>\n",
              "      <td>0.033153</td>\n",
              "      <td>0.75</td>\n",
              "      <td>0.106383</td>\n",
              "      <td>0.0</td>\n",
              "      <td>0.0</td>\n",
              "      <td>...</td>\n",
              "      <td>1.0</td>\n",
              "      <td>0.0</td>\n",
              "      <td>0.0</td>\n",
              "      <td>0.300145</td>\n",
              "      <td>0.000000</td>\n",
              "      <td>0.0</td>\n",
              "      <td>0.429284</td>\n",
              "      <td>0.00000</td>\n",
              "      <td>0.375641</td>\n",
              "      <td>0.000000</td>\n",
              "    </tr>\n",
              "    <tr>\n",
              "      <th>1</th>\n",
              "      <td>1.0</td>\n",
              "      <td>0.140845</td>\n",
              "      <td>0.254237</td>\n",
              "      <td>1.0</td>\n",
              "      <td>0.127273</td>\n",
              "      <td>0.076552</td>\n",
              "      <td>1.00</td>\n",
              "      <td>0.106383</td>\n",
              "      <td>0.0</td>\n",
              "      <td>0.0</td>\n",
              "      <td>...</td>\n",
              "      <td>1.0</td>\n",
              "      <td>1.0</td>\n",
              "      <td>0.0</td>\n",
              "      <td>0.336933</td>\n",
              "      <td>0.588468</td>\n",
              "      <td>0.0</td>\n",
              "      <td>0.580483</td>\n",
              "      <td>0.75776</td>\n",
              "      <td>0.519983</td>\n",
              "      <td>1.000000</td>\n",
              "    </tr>\n",
              "    <tr>\n",
              "      <th>2</th>\n",
              "      <td>1.0</td>\n",
              "      <td>0.943662</td>\n",
              "      <td>0.576271</td>\n",
              "      <td>1.0</td>\n",
              "      <td>0.436364</td>\n",
              "      <td>0.064497</td>\n",
              "      <td>0.00</td>\n",
              "      <td>0.617021</td>\n",
              "      <td>0.0</td>\n",
              "      <td>1.0</td>\n",
              "      <td>...</td>\n",
              "      <td>0.0</td>\n",
              "      <td>1.0</td>\n",
              "      <td>0.0</td>\n",
              "      <td>0.637794</td>\n",
              "      <td>0.560879</td>\n",
              "      <td>0.0</td>\n",
              "      <td>0.726408</td>\n",
              "      <td>0.00000</td>\n",
              "      <td>0.489523</td>\n",
              "      <td>0.666667</td>\n",
              "    </tr>\n",
              "    <tr>\n",
              "      <th>3</th>\n",
              "      <td>0.5</td>\n",
              "      <td>0.450704</td>\n",
              "      <td>0.254237</td>\n",
              "      <td>0.0</td>\n",
              "      <td>0.218182</td>\n",
              "      <td>0.014467</td>\n",
              "      <td>0.25</td>\n",
              "      <td>0.000000</td>\n",
              "      <td>0.0</td>\n",
              "      <td>1.0</td>\n",
              "      <td>...</td>\n",
              "      <td>0.0</td>\n",
              "      <td>0.0</td>\n",
              "      <td>0.0</td>\n",
              "      <td>0.499227</td>\n",
              "      <td>0.000000</td>\n",
              "      <td>0.0</td>\n",
              "      <td>0.000000</td>\n",
              "      <td>0.00000</td>\n",
              "      <td>0.248802</td>\n",
              "      <td>0.000000</td>\n",
              "    </tr>\n",
              "    <tr>\n",
              "      <th>4</th>\n",
              "      <td>0.5</td>\n",
              "      <td>0.309859</td>\n",
              "      <td>0.203390</td>\n",
              "      <td>1.0</td>\n",
              "      <td>0.163636</td>\n",
              "      <td>0.012658</td>\n",
              "      <td>0.00</td>\n",
              "      <td>0.042553</td>\n",
              "      <td>0.0</td>\n",
              "      <td>0.0</td>\n",
              "      <td>...</td>\n",
              "      <td>1.0</td>\n",
              "      <td>1.0</td>\n",
              "      <td>0.0</td>\n",
              "      <td>0.413142</td>\n",
              "      <td>0.000000</td>\n",
              "      <td>0.0</td>\n",
              "      <td>0.000000</td>\n",
              "      <td>0.00000</td>\n",
              "      <td>0.230551</td>\n",
              "      <td>0.666667</td>\n",
              "    </tr>\n",
              "  </tbody>\n",
              "</table>\n",
              "<p>5 rows × 41 columns</p>\n",
              "</div>\n",
              "      <button class=\"colab-df-convert\" onclick=\"convertToInteractive('df-ec65c85e-1a3f-4729-a6e1-480317971689')\"\n",
              "              title=\"Convert this dataframe to an interactive table.\"\n",
              "              style=\"display:none;\">\n",
              "        \n",
              "  <svg xmlns=\"http://www.w3.org/2000/svg\" height=\"24px\"viewBox=\"0 0 24 24\"\n",
              "       width=\"24px\">\n",
              "    <path d=\"M0 0h24v24H0V0z\" fill=\"none\"/>\n",
              "    <path d=\"M18.56 5.44l.94 2.06.94-2.06 2.06-.94-2.06-.94-.94-2.06-.94 2.06-2.06.94zm-11 1L8.5 8.5l.94-2.06 2.06-.94-2.06-.94L8.5 2.5l-.94 2.06-2.06.94zm10 10l.94 2.06.94-2.06 2.06-.94-2.06-.94-.94-2.06-.94 2.06-2.06.94z\"/><path d=\"M17.41 7.96l-1.37-1.37c-.4-.4-.92-.59-1.43-.59-.52 0-1.04.2-1.43.59L10.3 9.45l-7.72 7.72c-.78.78-.78 2.05 0 2.83L4 21.41c.39.39.9.59 1.41.59.51 0 1.02-.2 1.41-.59l7.78-7.78 2.81-2.81c.8-.78.8-2.07 0-2.86zM5.41 20L4 18.59l7.72-7.72 1.47 1.35L5.41 20z\"/>\n",
              "  </svg>\n",
              "      </button>\n",
              "      \n",
              "  <style>\n",
              "    .colab-df-container {\n",
              "      display:flex;\n",
              "      flex-wrap:wrap;\n",
              "      gap: 12px;\n",
              "    }\n",
              "\n",
              "    .colab-df-convert {\n",
              "      background-color: #E8F0FE;\n",
              "      border: none;\n",
              "      border-radius: 50%;\n",
              "      cursor: pointer;\n",
              "      display: none;\n",
              "      fill: #1967D2;\n",
              "      height: 32px;\n",
              "      padding: 0 0 0 0;\n",
              "      width: 32px;\n",
              "    }\n",
              "\n",
              "    .colab-df-convert:hover {\n",
              "      background-color: #E2EBFA;\n",
              "      box-shadow: 0px 1px 2px rgba(60, 64, 67, 0.3), 0px 1px 3px 1px rgba(60, 64, 67, 0.15);\n",
              "      fill: #174EA6;\n",
              "    }\n",
              "\n",
              "    [theme=dark] .colab-df-convert {\n",
              "      background-color: #3B4455;\n",
              "      fill: #D2E3FC;\n",
              "    }\n",
              "\n",
              "    [theme=dark] .colab-df-convert:hover {\n",
              "      background-color: #434B5C;\n",
              "      box-shadow: 0px 1px 3px 1px rgba(0, 0, 0, 0.15);\n",
              "      filter: drop-shadow(0px 1px 2px rgba(0, 0, 0, 0.3));\n",
              "      fill: #FFFFFF;\n",
              "    }\n",
              "  </style>\n",
              "\n",
              "      <script>\n",
              "        const buttonEl =\n",
              "          document.querySelector('#df-ec65c85e-1a3f-4729-a6e1-480317971689 button.colab-df-convert');\n",
              "        buttonEl.style.display =\n",
              "          google.colab.kernel.accessAllowed ? 'block' : 'none';\n",
              "\n",
              "        async function convertToInteractive(key) {\n",
              "          const element = document.querySelector('#df-ec65c85e-1a3f-4729-a6e1-480317971689');\n",
              "          const dataTable =\n",
              "            await google.colab.kernel.invokeFunction('convertToInteractive',\n",
              "                                                     [key], {});\n",
              "          if (!dataTable) return;\n",
              "\n",
              "          const docLinkHtml = 'Like what you see? Visit the ' +\n",
              "            '<a target=\"_blank\" href=https://colab.research.google.com/notebooks/data_table.ipynb>data table notebook</a>'\n",
              "            + ' to learn more about interactive tables.';\n",
              "          element.innerHTML = '';\n",
              "          dataTable['output_type'] = 'display_data';\n",
              "          await google.colab.output.renderOutput(dataTable, element);\n",
              "          const docLink = document.createElement('div');\n",
              "          docLink.innerHTML = docLinkHtml;\n",
              "          element.appendChild(docLink);\n",
              "        }\n",
              "      </script>\n",
              "    </div>\n",
              "  </div>\n",
              "  "
            ]
          },
          "metadata": {},
          "execution_count": 9
        }
      ]
    },
    {
      "cell_type": "code",
      "source": [
        "#ارزیابی مدا با روش Holdout\n",
        "from sklearn.model_selection import train_test_split\n",
        "Xtrain,Xtest,Ytrain,Ytest=train_test_split(Xnormal,Y,test_size=0.25 ,random_state=2020)"
      ],
      "metadata": {
        "id": "qf4QN8K6kCir"
      },
      "execution_count": 10,
      "outputs": []
    },
    {
      "cell_type": "code",
      "source": [
        "Ytest.value_counts()"
      ],
      "metadata": {
        "colab": {
          "base_uri": "https://localhost:8080/"
        },
        "id": "LO9D0TE_uQ-t",
        "outputId": "5b71b782-f201-44b4-d260-c45c3e105f30"
      },
      "execution_count": 11,
      "outputs": [
        {
          "output_type": "execute_result",
          "data": {
            "text/plain": [
              "0    174\n",
              "1     76\n",
              "Name: churn, dtype: int64"
            ]
          },
          "metadata": {},
          "execution_count": 11
        }
      ]
    },
    {
      "cell_type": "code",
      "source": [
        "# اگوریتم naive_bayes\n",
        "from sklearn.naive_bayes import GaussianNB ,MultinomialNB #1\n",
        "GNB=GaussianNB()#2\n",
        "GNB.fit(Xtrain,Ytrain) #3\n",
        "pred=GNB.predict(Xtest) #4\n",
        "pred\n"
      ],
      "metadata": {
        "colab": {
          "base_uri": "https://localhost:8080/"
        },
        "id": "FMbvKvlGxWKy",
        "outputId": "197cdae4-403e-44bc-b5ce-8ff2783c2675"
      },
      "execution_count": 12,
      "outputs": [
        {
          "output_type": "execute_result",
          "data": {
            "text/plain": [
              "array([1, 1, 0, 0, 1, 0, 1, 0, 1, 1, 1, 1, 1, 1, 0, 1, 0, 0, 1, 1, 0, 0,\n",
              "       0, 1, 0, 0, 1, 1, 1, 0, 0, 0, 1, 1, 1, 1, 1, 1, 1, 0, 1, 1, 1, 0,\n",
              "       0, 1, 0, 0, 0, 0, 0, 1, 0, 1, 1, 0, 0, 1, 1, 1, 1, 0, 1, 1, 0, 1,\n",
              "       0, 0, 1, 1, 0, 0, 1, 1, 1, 1, 0, 1, 1, 0, 0, 1, 0, 1, 0, 1, 0, 1,\n",
              "       0, 0, 1, 1, 0, 1, 1, 0, 0, 0, 0, 1, 0, 1, 0, 0, 0, 0, 1, 0, 0, 0,\n",
              "       0, 0, 1, 1, 0, 1, 0, 0, 1, 1, 1, 1, 0, 0, 0, 1, 1, 0, 1, 0, 1, 1,\n",
              "       0, 1, 1, 1, 0, 1, 0, 0, 1, 1, 1, 1, 0, 1, 0, 0, 0, 0, 1, 1, 1, 0,\n",
              "       0, 1, 1, 1, 1, 0, 0, 0, 0, 1, 1, 1, 1, 1, 0, 1, 0, 1, 0, 1, 1, 0,\n",
              "       1, 1, 1, 0, 1, 1, 1, 1, 0, 1, 1, 0, 0, 0, 0, 0, 1, 0, 0, 0, 0, 1,\n",
              "       0, 1, 1, 1, 1, 0, 1, 1, 1, 0, 1, 1, 0, 1, 1, 0, 0, 0, 0, 1, 0, 1,\n",
              "       0, 1, 1, 0, 0, 0, 0, 0, 0, 1, 1, 0, 0, 1, 1, 1, 0, 0, 0, 0, 1, 1,\n",
              "       0, 0, 0, 1, 0, 1, 0, 1])"
            ]
          },
          "metadata": {},
          "execution_count": 12
        }
      ]
    },
    {
      "cell_type": "code",
      "source": [
        "# حال باید مدل بالا را ارزیابی کنیم\n",
        "from sklearn.metrics import confusion_matrix,accuracy_score , recall_score , precision_score , f1_score , classification_report\n",
        "print(confusion_matrix(Ytest,pred))\n",
        "print(accuracy_score(Ytest,pred))\n",
        "print(recall_score(Ytest,pred))\n",
        "print(precision_score(Ytest,pred))\n",
        "print(f1_score(Ytest,pred))\n",
        "print(classification_report(Ytest,pred))"
      ],
      "metadata": {
        "colab": {
          "base_uri": "https://localhost:8080/"
        },
        "id": "NjoTqOKj0F_0",
        "outputId": "e78caece-7bb9-426b-9054-6c473c5ad4b7"
      },
      "execution_count": 13,
      "outputs": [
        {
          "output_type": "stream",
          "name": "stdout",
          "text": [
            "[[103  71]\n",
            " [ 17  59]]\n",
            "0.648\n",
            "0.7763157894736842\n",
            "0.45384615384615384\n",
            "0.5728155339805825\n",
            "              precision    recall  f1-score   support\n",
            "\n",
            "           0       0.86      0.59      0.70       174\n",
            "           1       0.45      0.78      0.57        76\n",
            "\n",
            "    accuracy                           0.65       250\n",
            "   macro avg       0.66      0.68      0.64       250\n",
            "weighted avg       0.74      0.65      0.66       250\n",
            "\n"
          ]
        }
      ]
    },
    {
      "cell_type": "code",
      "source": [
        "# در ایجا مشخص کردیم در چه کلاسی recall\n",
        "# اگر پیش بینی ما بک تکست بود باید در پوز لیبل صراحتا همان تکست را بنویسیم.\n",
        "print(confusion_matrix(Ytest,pred))\n",
        "print(accuracy_score(Ytest,pred))\n",
        "print(recall_score(Ytest,pred , pos_label=0))\n",
        "print(precision_score(Ytest,pred, pos_label=0))\n",
        "print(f1_score(Ytest,pred,average='macro'))\n",
        "print(classification_report(Ytest,pred))"
      ],
      "metadata": {
        "colab": {
          "base_uri": "https://localhost:8080/"
        },
        "id": "Nhp5mypZ28zd",
        "outputId": "55daf0d1-cd61-4335-85be-2a9674c7a6a7"
      },
      "execution_count": 14,
      "outputs": [
        {
          "output_type": "stream",
          "name": "stdout",
          "text": [
            "[[103  71]\n",
            " [ 17  59]]\n",
            "0.648\n",
            "0.5919540229885057\n",
            "0.8583333333333333\n",
            "0.636747903044713\n",
            "              precision    recall  f1-score   support\n",
            "\n",
            "           0       0.86      0.59      0.70       174\n",
            "           1       0.45      0.78      0.57        76\n",
            "\n",
            "    accuracy                           0.65       250\n",
            "   macro avg       0.66      0.68      0.64       250\n",
            "weighted avg       0.74      0.65      0.66       250\n",
            "\n"
          ]
        }
      ]
    },
    {
      "cell_type": "code",
      "source": [
        "# تمرین- همین کار را برای روش دوم استفاده کنید\n",
        "from sklearn.naive_bayes import GaussianNB ,MultinomialNB #1\n",
        "MNB=MultinomialNB ()#2\n",
        "MNB.fit(Xtrain,Ytrain) #3\n",
        "pred=MNB.predict(Xtest) #4\n",
        "pred"
      ],
      "metadata": {
        "colab": {
          "base_uri": "https://localhost:8080/"
        },
        "id": "7cxjB_nM4_lT",
        "outputId": "cf7c687e-dd83-4639-d7e6-f932387e3643"
      },
      "execution_count": 15,
      "outputs": [
        {
          "output_type": "execute_result",
          "data": {
            "text/plain": [
              "array([1, 1, 0, 0, 0, 0, 1, 0, 0, 0, 0, 1, 0, 1, 0, 1, 0, 0, 1, 0, 1, 0,\n",
              "       0, 1, 0, 0, 1, 1, 1, 0, 1, 0, 1, 1, 1, 0, 0, 1, 0, 0, 1, 1, 1, 0,\n",
              "       1, 1, 0, 0, 0, 0, 0, 1, 0, 1, 1, 0, 0, 1, 0, 1, 1, 1, 1, 0, 0, 1,\n",
              "       0, 0, 0, 0, 0, 0, 1, 1, 1, 0, 0, 1, 1, 0, 0, 0, 0, 0, 0, 0, 0, 1,\n",
              "       0, 0, 0, 0, 1, 0, 1, 0, 0, 0, 0, 1, 1, 1, 1, 0, 0, 0, 1, 0, 0, 0,\n",
              "       0, 0, 1, 1, 0, 0, 0, 0, 0, 0, 0, 1, 0, 0, 0, 1, 0, 0, 0, 0, 1, 0,\n",
              "       0, 0, 0, 1, 0, 1, 0, 0, 1, 0, 0, 0, 0, 1, 0, 0, 0, 0, 1, 1, 0, 0,\n",
              "       0, 1, 1, 0, 0, 0, 0, 0, 0, 0, 0, 1, 0, 1, 0, 1, 0, 1, 1, 1, 1, 0,\n",
              "       0, 0, 0, 0, 1, 1, 1, 1, 0, 1, 0, 0, 0, 0, 0, 0, 1, 0, 0, 0, 0, 1,\n",
              "       0, 1, 0, 0, 1, 0, 1, 0, 1, 0, 0, 0, 1, 0, 0, 0, 0, 0, 1, 0, 0, 1,\n",
              "       0, 1, 1, 1, 0, 0, 0, 0, 1, 0, 1, 0, 0, 0, 0, 1, 0, 0, 0, 0, 1, 0,\n",
              "       0, 0, 0, 1, 0, 0, 0, 1])"
            ]
          },
          "metadata": {},
          "execution_count": 15
        }
      ]
    },
    {
      "cell_type": "code",
      "source": [
        "print(confusion_matrix(Ytest,pred))\n",
        "print(accuracy_score(Ytest,pred))\n",
        "print(recall_score(Ytest,pred , pos_label=0))\n",
        "print(precision_score(Ytest,pred, pos_label=0))\n",
        "print(f1_score(Ytest,pred,average='macro'))\n",
        "print(classification_report(Ytest,pred))"
      ],
      "metadata": {
        "colab": {
          "base_uri": "https://localhost:8080/"
        },
        "id": "MnI7ESlkcbTb",
        "outputId": "dfbd1949-bd34-4a8c-ef71-edcbb96121a3"
      },
      "execution_count": 16,
      "outputs": [
        {
          "output_type": "stream",
          "name": "stdout",
          "text": [
            "[[127  47]\n",
            " [ 36  40]]\n",
            "0.668\n",
            "0.7298850574712644\n",
            "0.7791411042944786\n",
            "0.6222533724126632\n",
            "              precision    recall  f1-score   support\n",
            "\n",
            "           0       0.78      0.73      0.75       174\n",
            "           1       0.46      0.53      0.49        76\n",
            "\n",
            "    accuracy                           0.67       250\n",
            "   macro avg       0.62      0.63      0.62       250\n",
            "weighted avg       0.68      0.67      0.67       250\n",
            "\n"
          ]
        }
      ]
    },
    {
      "cell_type": "code",
      "source": [
        "# KNN\n",
        "from sklearn.neighbors import KNeighborsClassifier ,KNeighborsRegressor\n",
        "KNN=KNeighborsClassifier(n_neighbors=3 ,weights='distance',n_jobs=3) #1\n",
        "KNN.fit(Xtrain,Ytrain) #3\n",
        "pred=MNB.predict(Xtest) #4\n",
        "\n",
        "\n",
        "print(confusion_matrix(Ytest,pred))\n",
        "print(accuracy_score(Ytest,pred))\n",
        "print(recall_score(Ytest,pred , pos_label=0))\n",
        "print(precision_score(Ytest,pred, pos_label=0))\n",
        "print(f1_score(Ytest,pred,average='macro'))\n",
        "print(classification_report(Ytest,pred))"
      ],
      "metadata": {
        "colab": {
          "base_uri": "https://localhost:8080/"
        },
        "id": "m0NDDlzidhKN",
        "outputId": "97c0f9ba-7a68-4afd-8107-6bccf8ba8129"
      },
      "execution_count": 18,
      "outputs": [
        {
          "output_type": "stream",
          "name": "stdout",
          "text": [
            "[[127  47]\n",
            " [ 36  40]]\n",
            "0.668\n",
            "0.7298850574712644\n",
            "0.7791411042944786\n",
            "0.6222533724126632\n",
            "              precision    recall  f1-score   support\n",
            "\n",
            "           0       0.78      0.73      0.75       174\n",
            "           1       0.46      0.53      0.49        76\n",
            "\n",
            "    accuracy                           0.67       250\n",
            "   macro avg       0.62      0.63      0.62       250\n",
            "weighted avg       0.68      0.67      0.67       250\n",
            "\n"
          ]
        }
      ]
    },
    {
      "cell_type": "code",
      "source": [
        "# Tree\n",
        "from sklearn.tree import DecisionTreeClassifier\n",
        "DT=DecisionTreeClassifier(random_state=2020 , criterion='entropy',max_depth=3, min_samples_split=4 , min_samples_leaf=2 ,class_weight='balanced') #1\n",
        "#criterion='entropy' ,'gini'  \n",
        "#class_weight='balanced'  ,None ,{0:0.3 , 1:0.7}\n",
        "DT.fit(Xtrain,Ytrain) #3\n",
        "pred=DT.predict(Xtest) #4\n",
        "\n",
        "\n",
        "print(confusion_matrix(Ytest,pred))\n",
        "print(accuracy_score(Ytest,pred))\n",
        "print(recall_score(Ytest,pred , pos_label=0))\n",
        "print(precision_score(Ytest,pred, pos_label=0))\n",
        "print(f1_score(Ytest,pred,average='macro'))\n",
        "print(classification_report(Ytest,pred))"
      ],
      "metadata": {
        "colab": {
          "base_uri": "https://localhost:8080/"
        },
        "id": "r-7N_VesewJT",
        "outputId": "d0e77b34-05ea-4624-dc3e-24eae71d8459"
      },
      "execution_count": 19,
      "outputs": [
        {
          "output_type": "stream",
          "name": "stdout",
          "text": [
            "[[110  64]\n",
            " [ 24  52]]\n",
            "0.648\n",
            "0.632183908045977\n",
            "0.8208955223880597\n",
            "0.6279761904761905\n",
            "              precision    recall  f1-score   support\n",
            "\n",
            "           0       0.82      0.63      0.71       174\n",
            "           1       0.45      0.68      0.54        76\n",
            "\n",
            "    accuracy                           0.65       250\n",
            "   macro avg       0.63      0.66      0.63       250\n",
            "weighted avg       0.71      0.65      0.66       250\n",
            "\n"
          ]
        }
      ]
    },
    {
      "cell_type": "code",
      "source": [
        "# احتمال هر یک از کلاس ها\n",
        "r=DT.predict_proba (Xtest)\n",
        "r"
      ],
      "metadata": {
        "id": "JygXiwrhf0lq"
      },
      "execution_count": null,
      "outputs": []
    },
    {
      "cell_type": "code",
      "source": [
        "# فقط درصد کلاس یک\n",
        "r=r[:,1]"
      ],
      "metadata": {
        "id": "ArtwjUBggck1"
      },
      "execution_count": 24,
      "outputs": []
    },
    {
      "cell_type": "code",
      "source": [
        "res=pd.DataFrame({'real':Ytest.values,'pred':r})\n",
        "res.head()"
      ],
      "metadata": {
        "colab": {
          "base_uri": "https://localhost:8080/",
          "height": 206
        },
        "id": "kZKr1pvrglmV",
        "outputId": "dde82c71-d765-4cd5-cad4-80cea1461574"
      },
      "execution_count": 27,
      "outputs": [
        {
          "output_type": "execute_result",
          "data": {
            "text/plain": [
              "   real      pred\n",
              "0     1  0.830387\n",
              "1     1  0.830387\n",
              "2     0  0.255972\n",
              "3     1  0.654192\n",
              "4     1  0.255972"
            ],
            "text/html": [
              "\n",
              "  <div id=\"df-36962aa7-8fc9-4c44-8017-ddede14b1a05\">\n",
              "    <div class=\"colab-df-container\">\n",
              "      <div>\n",
              "<style scoped>\n",
              "    .dataframe tbody tr th:only-of-type {\n",
              "        vertical-align: middle;\n",
              "    }\n",
              "\n",
              "    .dataframe tbody tr th {\n",
              "        vertical-align: top;\n",
              "    }\n",
              "\n",
              "    .dataframe thead th {\n",
              "        text-align: right;\n",
              "    }\n",
              "</style>\n",
              "<table border=\"1\" class=\"dataframe\">\n",
              "  <thead>\n",
              "    <tr style=\"text-align: right;\">\n",
              "      <th></th>\n",
              "      <th>real</th>\n",
              "      <th>pred</th>\n",
              "    </tr>\n",
              "  </thead>\n",
              "  <tbody>\n",
              "    <tr>\n",
              "      <th>0</th>\n",
              "      <td>1</td>\n",
              "      <td>0.830387</td>\n",
              "    </tr>\n",
              "    <tr>\n",
              "      <th>1</th>\n",
              "      <td>1</td>\n",
              "      <td>0.830387</td>\n",
              "    </tr>\n",
              "    <tr>\n",
              "      <th>2</th>\n",
              "      <td>0</td>\n",
              "      <td>0.255972</td>\n",
              "    </tr>\n",
              "    <tr>\n",
              "      <th>3</th>\n",
              "      <td>1</td>\n",
              "      <td>0.654192</td>\n",
              "    </tr>\n",
              "    <tr>\n",
              "      <th>4</th>\n",
              "      <td>1</td>\n",
              "      <td>0.255972</td>\n",
              "    </tr>\n",
              "  </tbody>\n",
              "</table>\n",
              "</div>\n",
              "      <button class=\"colab-df-convert\" onclick=\"convertToInteractive('df-36962aa7-8fc9-4c44-8017-ddede14b1a05')\"\n",
              "              title=\"Convert this dataframe to an interactive table.\"\n",
              "              style=\"display:none;\">\n",
              "        \n",
              "  <svg xmlns=\"http://www.w3.org/2000/svg\" height=\"24px\"viewBox=\"0 0 24 24\"\n",
              "       width=\"24px\">\n",
              "    <path d=\"M0 0h24v24H0V0z\" fill=\"none\"/>\n",
              "    <path d=\"M18.56 5.44l.94 2.06.94-2.06 2.06-.94-2.06-.94-.94-2.06-.94 2.06-2.06.94zm-11 1L8.5 8.5l.94-2.06 2.06-.94-2.06-.94L8.5 2.5l-.94 2.06-2.06.94zm10 10l.94 2.06.94-2.06 2.06-.94-2.06-.94-.94-2.06-.94 2.06-2.06.94z\"/><path d=\"M17.41 7.96l-1.37-1.37c-.4-.4-.92-.59-1.43-.59-.52 0-1.04.2-1.43.59L10.3 9.45l-7.72 7.72c-.78.78-.78 2.05 0 2.83L4 21.41c.39.39.9.59 1.41.59.51 0 1.02-.2 1.41-.59l7.78-7.78 2.81-2.81c.8-.78.8-2.07 0-2.86zM5.41 20L4 18.59l7.72-7.72 1.47 1.35L5.41 20z\"/>\n",
              "  </svg>\n",
              "      </button>\n",
              "      \n",
              "  <style>\n",
              "    .colab-df-container {\n",
              "      display:flex;\n",
              "      flex-wrap:wrap;\n",
              "      gap: 12px;\n",
              "    }\n",
              "\n",
              "    .colab-df-convert {\n",
              "      background-color: #E8F0FE;\n",
              "      border: none;\n",
              "      border-radius: 50%;\n",
              "      cursor: pointer;\n",
              "      display: none;\n",
              "      fill: #1967D2;\n",
              "      height: 32px;\n",
              "      padding: 0 0 0 0;\n",
              "      width: 32px;\n",
              "    }\n",
              "\n",
              "    .colab-df-convert:hover {\n",
              "      background-color: #E2EBFA;\n",
              "      box-shadow: 0px 1px 2px rgba(60, 64, 67, 0.3), 0px 1px 3px 1px rgba(60, 64, 67, 0.15);\n",
              "      fill: #174EA6;\n",
              "    }\n",
              "\n",
              "    [theme=dark] .colab-df-convert {\n",
              "      background-color: #3B4455;\n",
              "      fill: #D2E3FC;\n",
              "    }\n",
              "\n",
              "    [theme=dark] .colab-df-convert:hover {\n",
              "      background-color: #434B5C;\n",
              "      box-shadow: 0px 1px 3px 1px rgba(0, 0, 0, 0.15);\n",
              "      filter: drop-shadow(0px 1px 2px rgba(0, 0, 0, 0.3));\n",
              "      fill: #FFFFFF;\n",
              "    }\n",
              "  </style>\n",
              "\n",
              "      <script>\n",
              "        const buttonEl =\n",
              "          document.querySelector('#df-36962aa7-8fc9-4c44-8017-ddede14b1a05 button.colab-df-convert');\n",
              "        buttonEl.style.display =\n",
              "          google.colab.kernel.accessAllowed ? 'block' : 'none';\n",
              "\n",
              "        async function convertToInteractive(key) {\n",
              "          const element = document.querySelector('#df-36962aa7-8fc9-4c44-8017-ddede14b1a05');\n",
              "          const dataTable =\n",
              "            await google.colab.kernel.invokeFunction('convertToInteractive',\n",
              "                                                     [key], {});\n",
              "          if (!dataTable) return;\n",
              "\n",
              "          const docLinkHtml = 'Like what you see? Visit the ' +\n",
              "            '<a target=\"_blank\" href=https://colab.research.google.com/notebooks/data_table.ipynb>data table notebook</a>'\n",
              "            + ' to learn more about interactive tables.';\n",
              "          element.innerHTML = '';\n",
              "          dataTable['output_type'] = 'display_data';\n",
              "          await google.colab.output.renderOutput(dataTable, element);\n",
              "          const docLink = document.createElement('div');\n",
              "          docLink.innerHTML = docLinkHtml;\n",
              "          element.appendChild(docLink);\n",
              "        }\n",
              "      </script>\n",
              "    </div>\n",
              "  </div>\n",
              "  "
            ]
          },
          "metadata": {},
          "execution_count": 27
        }
      ]
    },
    {
      "cell_type": "code",
      "source": [
        "# برای پیش بینی کل مدل\n",
        "from sklearn.model_selection import cross_val_predict ,cross_val_score\n",
        "pred =cross_val_predict(GNB ,X ,Y ,cv=5)\n",
        "\n",
        "\n",
        "print(confusion_matrix(Y,pred))\n",
        "print(accuracy_score(Y,pred))\n",
        "print(recall_score(Y,pred ))\n",
        "print(precision_score(Y,pred))\n",
        "print(f1_score(Y,pred,average='macro'))\n",
        "print(classification_report(Y,pred))"
      ],
      "metadata": {
        "id": "NCGS9X0-hPUK",
        "outputId": "7024ed2d-05bf-41f4-c6fd-c375a3699244",
        "colab": {
          "base_uri": "https://localhost:8080/"
        }
      },
      "execution_count": 28,
      "outputs": [
        {
          "output_type": "stream",
          "name": "stdout",
          "text": [
            "[[407 319]\n",
            " [ 50 224]]\n",
            "0.631\n",
            "0.8175182481751825\n",
            "0.4125230202578269\n",
            "0.6182143814193527\n",
            "              precision    recall  f1-score   support\n",
            "\n",
            "           0       0.89      0.56      0.69       726\n",
            "           1       0.41      0.82      0.55       274\n",
            "\n",
            "    accuracy                           0.63      1000\n",
            "   macro avg       0.65      0.69      0.62      1000\n",
            "weighted avg       0.76      0.63      0.65      1000\n",
            "\n"
          ]
        }
      ]
    },
    {
      "cell_type": "code",
      "source": [
        "from sklearn.model_selection import cross_val_predict ,cross_val_score\n",
        "pred =cross_val_predict(KNN ,X ,Y ,cv=5)\n",
        "\n",
        "\n",
        "print(confusion_matrix(Y,pred))\n",
        "print(accuracy_score(Y,pred))\n",
        "print(recall_score(Y,pred ))\n",
        "print(precision_score(Y,pred))\n",
        "print(f1_score(Y,pred,average='macro'))\n",
        "print(classification_report(Y,pred))"
      ],
      "metadata": {
        "id": "WnH9b_mkiQLh",
        "outputId": "db4af2bc-b5b5-4feb-8f40-f0b2be2fb60d",
        "colab": {
          "base_uri": "https://localhost:8080/"
        }
      },
      "execution_count": 29,
      "outputs": [
        {
          "output_type": "stream",
          "name": "stdout",
          "text": [
            "[[588 138]\n",
            " [172 102]]\n",
            "0.69\n",
            "0.3722627737226277\n",
            "0.425\n",
            "0.5941367157019339\n",
            "              precision    recall  f1-score   support\n",
            "\n",
            "           0       0.77      0.81      0.79       726\n",
            "           1       0.42      0.37      0.40       274\n",
            "\n",
            "    accuracy                           0.69      1000\n",
            "   macro avg       0.60      0.59      0.59      1000\n",
            "weighted avg       0.68      0.69      0.68      1000\n",
            "\n"
          ]
        }
      ]
    },
    {
      "cell_type": "code",
      "source": [
        "from sklearn.model_selection import cross_val_predict ,cross_val_score\n",
        "pred =cross_val_predict(DT ,X ,Y ,cv=5)\n",
        "\n",
        "\n",
        "print(confusion_matrix(Y,pred))\n",
        "print(accuracy_score(Y,pred))\n",
        "print(recall_score(Y,pred ))\n",
        "print(precision_score(Y,pred))\n",
        "print(f1_score(Y,pred,average='macro'))\n",
        "print(classification_report(Y,pred))"
      ],
      "metadata": {
        "id": "nZd7-Zb-iXEQ",
        "outputId": "60ab722e-fe93-4635-a06f-319f19ce1c9b",
        "colab": {
          "base_uri": "https://localhost:8080/"
        }
      },
      "execution_count": 30,
      "outputs": [
        {
          "output_type": "stream",
          "name": "stdout",
          "text": [
            "[[509 217]\n",
            " [ 99 175]]\n",
            "0.684\n",
            "0.6386861313868614\n",
            "0.44642857142857145\n",
            "0.644321983152568\n",
            "              precision    recall  f1-score   support\n",
            "\n",
            "           0       0.84      0.70      0.76       726\n",
            "           1       0.45      0.64      0.53       274\n",
            "\n",
            "    accuracy                           0.68      1000\n",
            "   macro avg       0.64      0.67      0.64      1000\n",
            "weighted avg       0.73      0.68      0.70      1000\n",
            "\n"
          ]
        }
      ]
    },
    {
      "cell_type": "code",
      "source": [
        "from sklearn.model_selection import cross_val_predict ,cross_val_score\n",
        "score =cross_val_score(GNB ,X ,Y ,cv=5,scoring='accuracy')\n",
        "#scoring='f1' ,  'accuracy'\n",
        "print(score)\n",
        "print(score.mean())\n",
        "print(score.std())"
      ],
      "metadata": {
        "id": "vOQJnpZRjJ2u",
        "outputId": "e4594c94-627b-4cc8-9954-508cfd8561c0",
        "colab": {
          "base_uri": "https://localhost:8080/"
        }
      },
      "execution_count": 36,
      "outputs": [
        {
          "output_type": "stream",
          "name": "stdout",
          "text": [
            "[0.59  0.67  0.63  0.63  0.635]\n",
            "0.631\n",
            "0.025377155080899064\n"
          ]
        }
      ]
    },
    {
      "cell_type": "code",
      "source": [
        "from sklearn.model_selection import cross_val_predict ,cross_val_score\n",
        "score =cross_val_score(KNN ,X ,Y ,cv=5,scoring='accuracy')\n",
        "#scoring='f1' ,  'accuracy'\n",
        "print(score)\n",
        "print(score.mean())\n",
        "print(score.std())"
      ],
      "metadata": {
        "id": "raAJ8Uy6ib8S",
        "outputId": "bc9dcbfd-e2de-4555-c068-bb27f20b43f6",
        "colab": {
          "base_uri": "https://localhost:8080/"
        }
      },
      "execution_count": 34,
      "outputs": [
        {
          "output_type": "stream",
          "name": "stdout",
          "text": [
            "[0.65  0.69  0.705 0.675 0.73 ]\n",
            "0.69\n",
            "0.027018512172212572\n"
          ]
        }
      ]
    },
    {
      "cell_type": "code",
      "source": [
        "from sklearn.model_selection import cross_val_predict ,cross_val_score\n",
        "score =cross_val_score(DT,X ,Y ,cv=5,scoring='accuracy')\n",
        "#scoring='f1' ,  'accuracy'\n",
        "print(score)\n",
        "print(score.mean())\n",
        "print(score.std())"
      ],
      "metadata": {
        "id": "chiWtcGzjD0G",
        "outputId": "85ee6d79-209b-4cf1-ab76-bb9f2a3e844a",
        "colab": {
          "base_uri": "https://localhost:8080/"
        }
      },
      "execution_count": 35,
      "outputs": [
        {
          "output_type": "stream",
          "name": "stdout",
          "text": [
            "[0.635 0.615 0.67  0.75  0.75 ]\n",
            "0.6839999999999999\n",
            "0.05669215113223346\n"
          ]
        }
      ]
    }
  ]
}