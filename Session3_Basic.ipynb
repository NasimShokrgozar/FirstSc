{
  "nbformat": 4,
  "nbformat_minor": 0,
  "metadata": {
    "colab": {
      "provenance": [],
      "authorship_tag": "ABX9TyNp6JW+6cXme340mqa33ZyK",
      "include_colab_link": true
    },
    "kernelspec": {
      "name": "python3",
      "display_name": "Python 3"
    },
    "language_info": {
      "name": "python"
    }
  },
  "cells": [
    {
      "cell_type": "markdown",
      "metadata": {
        "id": "view-in-github",
        "colab_type": "text"
      },
      "source": [
        "<a href=\"https://colab.research.google.com/github/NasimShokrgozar/FirstSc/blob/main/Session3_Basic.ipynb\" target=\"_parent\"><img src=\"https://colab.research.google.com/assets/colab-badge.svg\" alt=\"Open In Colab\"/></a>"
      ]
    },
    {
      "cell_type": "code",
      "execution_count": 2,
      "metadata": {
        "id": "kyWyMWaySWnT"
      },
      "outputs": [],
      "source": [
        "import numpy as np"
      ]
    },
    {
      "cell_type": "code",
      "source": [
        "np.abs(-2)"
      ],
      "metadata": {
        "colab": {
          "base_uri": "https://localhost:8080/"
        },
        "id": "GhHJ-WMRSjS3",
        "outputId": "22fb9e84-2c9d-41e5-e6c0-2e32cac71f80"
      },
      "execution_count": 3,
      "outputs": [
        {
          "output_type": "execute_result",
          "data": {
            "text/plain": [
              "2"
            ]
          },
          "metadata": {},
          "execution_count": 3
        }
      ]
    },
    {
      "cell_type": "code",
      "source": [
        "p=np.sqrt(9)\n",
        "p"
      ],
      "metadata": {
        "colab": {
          "base_uri": "https://localhost:8080/"
        },
        "id": "IIF9AK_wTW21",
        "outputId": "8c7ae4e7-c20a-4dda-8698-b36f5d1b0431"
      },
      "execution_count": 6,
      "outputs": [
        {
          "output_type": "execute_result",
          "data": {
            "text/plain": [
              "3.0"
            ]
          },
          "metadata": {},
          "execution_count": 6
        }
      ]
    },
    {
      "cell_type": "code",
      "source": [
        "q=[6,8,12,4,35,70,56]\n",
        "c=np.max(q)\n",
        "c"
      ],
      "metadata": {
        "colab": {
          "base_uri": "https://localhost:8080/"
        },
        "id": "T77FChGET07P",
        "outputId": "aa627eab-222e-4e32-ebcb-f4c18760e9be"
      },
      "execution_count": 7,
      "outputs": [
        {
          "output_type": "execute_result",
          "data": {
            "text/plain": [
              "70"
            ]
          },
          "metadata": {},
          "execution_count": 7
        }
      ]
    },
    {
      "cell_type": "code",
      "source": [
        "r=np.random.normal(50,5,12)\n",
        "r"
      ],
      "metadata": {
        "colab": {
          "base_uri": "https://localhost:8080/"
        },
        "id": "S8ntZ_eEUDsx",
        "outputId": "c2880b9f-92db-4273-e98f-47aca7de51c1"
      },
      "execution_count": 12,
      "outputs": [
        {
          "output_type": "execute_result",
          "data": {
            "text/plain": [
              "array([51.9960065 , 42.75652832, 56.27630095, 52.4986921 , 53.14585466,\n",
              "       45.70540838, 56.53694784, 60.70801998, 50.9765103 , 51.60568129,\n",
              "       48.75733509, 50.35512507])"
            ]
          },
          "metadata": {},
          "execution_count": 12
        }
      ]
    },
    {
      "cell_type": "code",
      "source": [
        "np.max(r)\n",
        "np.mean(r)\n",
        "np.min(r)\n",
        "np.std(r)"
      ],
      "metadata": {
        "colab": {
          "base_uri": "https://localhost:8080/"
        },
        "id": "310KfmBTUfRd",
        "outputId": "3ff871b0-3163-45cc-ea41-1c66dbc13e50"
      },
      "execution_count": 15,
      "outputs": [
        {
          "output_type": "execute_result",
          "data": {
            "text/plain": [
              "4.611126639664179"
            ]
          },
          "metadata": {},
          "execution_count": 15
        }
      ]
    },
    {
      "cell_type": "code",
      "source": [],
      "metadata": {
        "colab": {
          "base_uri": "https://localhost:8080/"
        },
        "id": "Bqm4eBDxUlwu",
        "outputId": "269ad3f2-5e6d-4b0d-ff1f-1853679fb51f"
      },
      "execution_count": 14,
      "outputs": [
        {
          "output_type": "execute_result",
          "data": {
            "text/plain": [
              "42.756528320248684"
            ]
          },
          "metadata": {},
          "execution_count": 14
        }
      ]
    },
    {
      "cell_type": "code",
      "source": [
        "type(r)"
      ],
      "metadata": {
        "colab": {
          "base_uri": "https://localhost:8080/"
        },
        "id": "zEPTix_PUq7e",
        "outputId": "4e1b7b5f-3234-43a6-d778-2c37e25fb853"
      },
      "execution_count": 16,
      "outputs": [
        {
          "output_type": "execute_result",
          "data": {
            "text/plain": [
              "numpy.ndarray"
            ]
          },
          "metadata": {},
          "execution_count": 16
        }
      ]
    },
    {
      "cell_type": "code",
      "source": [
        "r=list(r)\n",
        "r"
      ],
      "metadata": {
        "colab": {
          "base_uri": "https://localhost:8080/"
        },
        "id": "2cDoZnE3aZqD",
        "outputId": "c56b7304-229e-46ce-d98a-7f977fe4955e"
      },
      "execution_count": 17,
      "outputs": [
        {
          "output_type": "execute_result",
          "data": {
            "text/plain": [
              "[51.99600650497709,\n",
              " 42.756528320248684,\n",
              " 56.27630094567081,\n",
              " 52.49869209700756,\n",
              " 53.14585465952349,\n",
              " 45.705408379221105,\n",
              " 56.536947844641425,\n",
              " 60.70801998050151,\n",
              " 50.97651030018069,\n",
              " 51.60568129057301,\n",
              " 48.757335094951046,\n",
              " 50.355125065958894]"
            ]
          },
          "metadata": {},
          "execution_count": 17
        }
      ]
    },
    {
      "cell_type": "code",
      "source": [
        "type(r)"
      ],
      "metadata": {
        "colab": {
          "base_uri": "https://localhost:8080/"
        },
        "id": "8UhaUgs9aggj",
        "outputId": "e3a92017-b49b-4b62-d9b1-917af1a7074e"
      },
      "execution_count": 18,
      "outputs": [
        {
          "output_type": "execute_result",
          "data": {
            "text/plain": [
              "list"
            ]
          },
          "metadata": {},
          "execution_count": 18
        }
      ]
    },
    {
      "cell_type": "code",
      "source": [
        "len(r)"
      ],
      "metadata": {
        "colab": {
          "base_uri": "https://localhost:8080/"
        },
        "id": "sBEzbcEdaiem",
        "outputId": "4a4c5378-c04b-46ec-9187-d9050440d23e"
      },
      "execution_count": 19,
      "outputs": [
        {
          "output_type": "execute_result",
          "data": {
            "text/plain": [
              "12"
            ]
          },
          "metadata": {},
          "execution_count": 19
        }
      ]
    },
    {
      "cell_type": "code",
      "source": [
        "import pyfpgrowth"
      ],
      "metadata": {
        "colab": {
          "base_uri": "https://localhost:8080/",
          "height": 305
        },
        "id": "R9GUw0BQaowb",
        "outputId": "8536f18a-509e-483f-8655-97316d9e4bd7"
      },
      "execution_count": 20,
      "outputs": [
        {
          "output_type": "error",
          "ename": "ModuleNotFoundError",
          "evalue": "ignored",
          "traceback": [
            "\u001b[0;31m---------------------------------------------------------------------------\u001b[0m",
            "\u001b[0;31mModuleNotFoundError\u001b[0m                       Traceback (most recent call last)",
            "\u001b[0;32m<ipython-input-20-788c7d6f79da>\u001b[0m in \u001b[0;36m<cell line: 1>\u001b[0;34m()\u001b[0m\n\u001b[0;32m----> 1\u001b[0;31m \u001b[0;32mimport\u001b[0m \u001b[0mpyfpgrowth\u001b[0m\u001b[0;34m\u001b[0m\u001b[0;34m\u001b[0m\u001b[0m\n\u001b[0m",
            "\u001b[0;31mModuleNotFoundError\u001b[0m: No module named 'pyfpgrowth'",
            "",
            "\u001b[0;31m---------------------------------------------------------------------------\u001b[0;32m\nNOTE: If your import is failing due to a missing package, you can\nmanually install dependencies using either !pip or !apt.\n\nTo view examples of installing some common dependencies, click the\n\"Open Examples\" button below.\n\u001b[0;31m---------------------------------------------------------------------------\u001b[0m\n"
          ],
          "errorDetails": {
            "actions": [
              {
                "action": "open_url",
                "actionText": "Open Examples",
                "url": "/notebooks/snippets/importing_libraries.ipynb"
              }
            ]
          }
        }
      ]
    },
    {
      "cell_type": "code",
      "source": [
        "!pip install pyfpgrowth"
      ],
      "metadata": {
        "colab": {
          "base_uri": "https://localhost:8080/"
        },
        "id": "Y8QQVywbbMQQ",
        "outputId": "bd551104-14c5-42aa-82a3-2368d970b630"
      },
      "execution_count": 21,
      "outputs": [
        {
          "output_type": "stream",
          "name": "stdout",
          "text": [
            "Looking in indexes: https://pypi.org/simple, https://us-python.pkg.dev/colab-wheels/public/simple/\n",
            "Collecting pyfpgrowth\n",
            "  Downloading pyfpgrowth-1.0.tar.gz (1.6 MB)\n",
            "\u001b[2K     \u001b[90m━━━━━━━━━━━━━━━━━━━━━━━━━━━━━━━━━━━━━━━━\u001b[0m \u001b[32m1.6/1.6 MB\u001b[0m \u001b[31m17.7 MB/s\u001b[0m eta \u001b[36m0:00:00\u001b[0m\n",
            "\u001b[?25h  Preparing metadata (setup.py) ... \u001b[?25l\u001b[?25hdone\n",
            "Building wheels for collected packages: pyfpgrowth\n",
            "  Building wheel for pyfpgrowth (setup.py) ... \u001b[?25l\u001b[?25hdone\n",
            "  Created wheel for pyfpgrowth: filename=pyfpgrowth-1.0-py2.py3-none-any.whl size=5504 sha256=cc8b84997d5c1e0093748ee096eda46e12fdd7f203e52af98e0a2a0fe78438bf\n",
            "  Stored in directory: /root/.cache/pip/wheels/09/fc/dc/afff211038bfc745722d8d7e846e854e5791968b22c570a530\n",
            "Successfully built pyfpgrowth\n",
            "Installing collected packages: pyfpgrowth\n",
            "Successfully installed pyfpgrowth-1.0\n"
          ]
        }
      ]
    },
    {
      "cell_type": "code",
      "source": [
        "import pyfpgrowth"
      ],
      "metadata": {
        "id": "bDgyyiBObYgg"
      },
      "execution_count": 22,
      "outputs": []
    },
    {
      "cell_type": "code",
      "source": [
        "# !pip install pyfpgrowth==1.2.2  نصب ورژن خاص"
      ],
      "metadata": {
        "id": "dsjIlkyTdhiR"
      },
      "execution_count": null,
      "outputs": []
    },
    {
      "cell_type": "code",
      "source": [
        "# Ctrl+?   برای کامنت نوشتن"
      ],
      "metadata": {
        "id": "hlZb3BSzdjWw"
      },
      "execution_count": null,
      "outputs": []
    },
    {
      "cell_type": "code",
      "source": [
        "# math & sypy رقبای numpy"
      ],
      "metadata": {
        "id": "1Ob_ZwJyeEXc"
      },
      "execution_count": null,
      "outputs": []
    },
    {
      "cell_type": "code",
      "source": [
        "# !pip uninstall ....."
      ],
      "metadata": {
        "id": "6VIDAt_qedr5"
      },
      "execution_count": null,
      "outputs": []
    },
    {
      "cell_type": "code",
      "source": [
        "np.version.version"
      ],
      "metadata": {
        "colab": {
          "base_uri": "https://localhost:8080/",
          "height": 35
        },
        "id": "krG8l7e8hBpE",
        "outputId": "8fe1026f-d6e3-4a97-b7ca-e46699aaadc8"
      },
      "execution_count": 35,
      "outputs": [
        {
          "output_type": "execute_result",
          "data": {
            "text/plain": [
              "'1.22.4'"
            ],
            "application/vnd.google.colaboratory.intrinsic+json": {
              "type": "string"
            }
          },
          "metadata": {},
          "execution_count": 35
        }
      ]
    },
    {
      "cell_type": "code",
      "source": [
        "!pip install pyfpgrowth --upgrade"
      ],
      "metadata": {
        "colab": {
          "base_uri": "https://localhost:8080/"
        },
        "id": "ZrnsvEwXfP2c",
        "outputId": "5e5442ca-b466-4ba7-87b2-aaf29ad8a154"
      },
      "execution_count": 23,
      "outputs": [
        {
          "output_type": "stream",
          "name": "stdout",
          "text": [
            "Looking in indexes: https://pypi.org/simple, https://us-python.pkg.dev/colab-wheels/public/simple/\n",
            "Requirement already satisfied: pyfpgrowth in /usr/local/lib/python3.10/dist-packages (1.0)\n"
          ]
        }
      ]
    },
    {
      "cell_type": "code",
      "source": [
        "f=np.random.normal(50,5,1000)\n",
        "print (np.mean(f))\n",
        "print (np.std(f))"
      ],
      "metadata": {
        "colab": {
          "base_uri": "https://localhost:8080/"
        },
        "id": "8-whdn9Vfhcc",
        "outputId": "bbb7e579-6d8a-4127-f3df-baa96be8f9f4"
      },
      "execution_count": 30,
      "outputs": [
        {
          "output_type": "stream",
          "name": "stdout",
          "text": [
            "49.9910773963679\n",
            "5.1704977544417074\n"
          ]
        }
      ]
    },
    {
      "cell_type": "code",
      "source": [
        "R=np.append(f,23)\n",
        "print (np.mean(f))\n",
        "print (np.std(f))"
      ],
      "metadata": {
        "colab": {
          "base_uri": "https://localhost:8080/"
        },
        "id": "Kesq1QbogTpA",
        "outputId": "2244afaa-cc07-45f9-fea2-02a275a66fad"
      },
      "execution_count": 32,
      "outputs": [
        {
          "output_type": "stream",
          "name": "stdout",
          "text": [
            "49.9910773963679\n",
            "5.1704977544417074\n"
          ]
        }
      ]
    },
    {
      "cell_type": "code",
      "source": [
        "q=[2,5,6,7,8]\n",
        "q.append(45)\n",
        "q"
      ],
      "metadata": {
        "colab": {
          "base_uri": "https://localhost:8080/"
        },
        "id": "xZFQA8-agv75",
        "outputId": "511fff1d-ec6b-453c-fc6e-9727c108c7f6"
      },
      "execution_count": 34,
      "outputs": [
        {
          "output_type": "execute_result",
          "data": {
            "text/plain": [
              "[2, 5, 6, 7, 8, 45]"
            ]
          },
          "metadata": {},
          "execution_count": 34
        }
      ]
    },
    {
      "cell_type": "code",
      "source": [
        "# توزیع نرمال 500 عدد با میانگین 100 و انحراف معیار 10\n",
        "v=np.random.normal(100,10,500)\n",
        "print (np.mean(v))\n",
        "print (np.std(v))\n",
        "print (np.median(v))"
      ],
      "metadata": {
        "colab": {
          "base_uri": "https://localhost:8080/"
        },
        "id": "vVB4Dy7GhK5y",
        "outputId": "dd456c80-8996-4cd9-dab2-c1e2616a7c78"
      },
      "execution_count": 55,
      "outputs": [
        {
          "output_type": "stream",
          "name": "stdout",
          "text": [
            "99.7990008985151\n",
            "10.259776161763696\n",
            "100.03926134525098\n"
          ]
        }
      ]
    },
    {
      "cell_type": "code",
      "source": [
        "V=np.append(v,1000000)\n",
        "print (np.mean(V))\n",
        "print (np.std(V))\n",
        "print (np.median(V))"
      ],
      "metadata": {
        "colab": {
          "base_uri": "https://localhost:8080/"
        },
        "id": "c0VJTrpsiENl",
        "outputId": "0e819810-8823-4854-e8b2-49ff28b1476c"
      },
      "execution_count": 56,
      "outputs": [
        {
          "output_type": "stream",
          "name": "stdout",
          "text": [
            "2095.60778532786\n",
            "44627.642297746024\n",
            "100.1044146520678\n"
          ]
        }
      ]
    },
    {
      "cell_type": "code",
      "source": [
        "# medin= میانه است که یعنی اعداد را سورت می کنیم و\n",
        "#  عدد وسط را بر می داریم که البته در صرتی که توزیع نرمال داشته باشیم "
      ],
      "metadata": {
        "id": "HamJO3Opj4j7"
      },
      "execution_count": null,
      "outputs": []
    },
    {
      "cell_type": "code",
      "source": [
        "# یک تعداد عدد با توزیع یکنواخت\n",
        "e=np.random.uniform(100,200,30)\n",
        "e"
      ],
      "metadata": {
        "colab": {
          "base_uri": "https://localhost:8080/"
        },
        "id": "vkZRwbnwkYC0",
        "outputId": "8fd3c2ac-bc51-4648-a47e-74fa33223047"
      },
      "execution_count": 42,
      "outputs": [
        {
          "output_type": "execute_result",
          "data": {
            "text/plain": [
              "array([133.84869638, 197.77412144, 165.90323623, 122.02536088,\n",
              "       116.48423999, 133.32386625, 122.07723531, 118.21969249,\n",
              "       199.09731096, 195.69368959, 168.48913233, 157.18037756,\n",
              "       159.74452471, 122.27708258, 153.74681016, 132.90652994,\n",
              "       144.69176674, 197.68527677, 136.10674585, 164.43720836,\n",
              "       171.40413119, 187.13036766, 109.59796155, 119.62033412,\n",
              "       113.70623522, 171.88754563, 153.09836769, 120.08830529,\n",
              "       126.30296598, 136.18113616])"
            ]
          },
          "metadata": {},
          "execution_count": 42
        }
      ]
    },
    {
      "cell_type": "code",
      "source": [
        "import matplotlib.pyplot as plt"
      ],
      "metadata": {
        "id": "yXC87-23lPL6"
      },
      "execution_count": 44,
      "outputs": []
    },
    {
      "cell_type": "code",
      "source": [
        "B=np.random.normal(100,10,500)\n",
        "plt.hist (B)"
      ],
      "metadata": {
        "colab": {
          "base_uri": "https://localhost:8080/",
          "height": 517
        },
        "id": "xVuudFfplakc",
        "outputId": "91431c3a-44dc-4f99-b6c3-d5f0d16d7ccd"
      },
      "execution_count": 49,
      "outputs": [
        {
          "output_type": "execute_result",
          "data": {
            "text/plain": [
              "(array([  7.,  22.,  48.,  89., 111., 113.,  59.,  34.,  13.,   4.]),\n",
              " array([ 70.01336859,  76.24940388,  82.48543917,  88.72147446,\n",
              "         94.95750975, 101.19354503, 107.42958032, 113.66561561,\n",
              "        119.9016509 , 126.13768619, 132.37372147]),\n",
              " <BarContainer object of 10 artists>)"
            ]
          },
          "metadata": {},
          "execution_count": 49
        },
        {
          "output_type": "display_data",
          "data": {
            "text/plain": [
              "<Figure size 640x480 with 1 Axes>"
            ],
            "image/png": "[encoded data removed]"
          },
          "metadata": {}
        }
      ]
    },
    {
      "cell_type": "code",
      "source": [
        "plt.hist (B,50)"
      ],
      "metadata": {
        "colab": {
          "base_uri": "https://localhost:8080/",
          "height": 742
        },
        "id": "LdMqrnIhl8zd",
        "outputId": "0905a0fa-a143-4adb-9d7f-d245f6e25776"
      },
      "execution_count": 50,
      "outputs": [
        {
          "output_type": "execute_result",
          "data": {
            "text/plain": [
              "(array([ 3.,  1.,  0.,  0.,  3.,  4.,  2.,  6.,  4.,  6.,  8.,  3., 16.,\n",
              "        11., 10.,  9., 20., 15., 18., 27., 14., 14., 28., 28., 27., 23.,\n",
              "        26., 20., 23., 21., 11., 10., 12., 16., 10., 13.,  9.,  5.,  5.,\n",
              "         2.,  5.,  4.,  4.,  0.,  0.,  1.,  1.,  1.,  0.,  1.]),\n",
              " array([ 70.01336859,  71.26057565,  72.50778271,  73.75498977,\n",
              "         75.00219682,  76.24940388,  77.49661094,  78.743818  ,\n",
              "         79.99102505,  81.23823211,  82.48543917,  83.73264623,\n",
              "         84.97985328,  86.22706034,  87.4742674 ,  88.72147446,\n",
              "         89.96868151,  91.21588857,  92.46309563,  93.71030269,\n",
              "         94.95750975,  96.2047168 ,  97.45192386,  98.69913092,\n",
              "         99.94633798, 101.19354503, 102.44075209, 103.68795915,\n",
              "        104.93516621, 106.18237326, 107.42958032, 108.67678738,\n",
              "        109.92399444, 111.17120149, 112.41840855, 113.66561561,\n",
              "        114.91282267, 116.16002973, 117.40723678, 118.65444384,\n",
              "        119.9016509 , 121.14885796, 122.39606501, 123.64327207,\n",
              "        124.89047913, 126.13768619, 127.38489324, 128.6321003 ,\n",
              "        129.87930736, 131.12651442, 132.37372147]),\n",
              " <BarContainer object of 50 artists>)"
            ]
          },
          "metadata": {},
          "execution_count": 50
        },
        {
          "output_type": "display_data",
          "data": {
            "text/plain": [
              "<Figure size 640x480 with 1 Axes>"
            ],
            "image/png": "[encoded data removed]"
          },
          "metadata": {}
        }
      ]
    },
    {
      "cell_type": "code",
      "source": [
        "plt.hist (B)\n",
        "plt.show()"
      ],
      "metadata": {
        "colab": {
          "base_uri": "https://localhost:8080/",
          "height": 430
        },
        "id": "tyGVxruzmGrw",
        "outputId": "133a0570-c5d6-484c-e10f-f5e939a91841"
      },
      "execution_count": 51,
      "outputs": [
        {
          "output_type": "display_data",
          "data": {
            "text/plain": [
              "<Figure size 640x480 with 1 Axes>"
            ],
            "image/png": "[encoded data removed]"
          },
          "metadata": {}
        }
      ]
    },
    {
      "cell_type": "code",
      "source": [
        "plt.hist (V)"
      ],
      "metadata": {
        "colab": {
          "base_uri": "https://localhost:8080/",
          "height": 535
        },
        "id": "I-fLDDGBoCFP",
        "outputId": "42f91c3a-e6e3-4801-f907-b84bd6260c41"
      },
      "execution_count": 61,
      "outputs": [
        {
          "output_type": "execute_result",
          "data": {
            "text/plain": [
              "(array([500.,   0.,   0.,   0.,   0.,   0.,   0.,   0.,   0.,   1.]),\n",
              " array([6.42351986e+01, 1.00057812e+05, 2.00051388e+05, 3.00044965e+05,\n",
              "        4.00038541e+05, 5.00032118e+05, 6.00025694e+05, 7.00019271e+05,\n",
              "        8.00012847e+05, 9.00006424e+05, 1.00000000e+06]),\n",
              " <BarContainer object of 10 artists>)"
            ]
          },
          "metadata": {},
          "execution_count": 61
        },
        {
          "output_type": "display_data",
          "data": {
            "text/plain": [
              "<Figure size 640x480 with 1 Axes>"
            ],
            "image/png": "[encoded data removed]"
          },
          "metadata": {}
        }
      ]
    },
    {
      "cell_type": "code",
      "source": [
        "x=np.arange(-3,3,0.01)\n",
        "x"
      ],
      "metadata": {
        "id": "FfVwKLW9oFjI"
      },
      "execution_count": null,
      "outputs": []
    },
    {
      "cell_type": "code",
      "source": [
        "y=np.sin(x)\n",
        "z=np.cos(x)"
      ],
      "metadata": {
        "id": "u194CCIzobdu"
      },
      "execution_count": 67,
      "outputs": []
    },
    {
      "cell_type": "code",
      "source": [
        "plt.plot(x,y)"
      ],
      "metadata": {
        "colab": {
          "base_uri": "https://localhost:8080/",
          "height": 447
        },
        "id": "DRwOAKtzooXs",
        "outputId": "70f88a5c-a015-40da-a97c-e55d599f1b4f"
      },
      "execution_count": 68,
      "outputs": [
        {
          "output_type": "execute_result",
          "data": {
            "text/plain": [
              "[<matplotlib.lines.Line2D at 0x7f75a9d34bb0>]"
            ]
          },
          "metadata": {},
          "execution_count": 68
        },
        {
          "output_type": "display_data",
          "data": {
            "text/plain": [
              "<Figure size 640x480 with 1 Axes>"
            ],
            "image/png": "[encoded data removed]"
          },
          "metadata": {}
        }
      ]
    },
    {
      "cell_type": "code",
      "source": [
        "plt.plot(x,z)"
      ],
      "metadata": {
        "colab": {
          "base_uri": "https://localhost:8080/",
          "height": 447
        },
        "id": "up43ZzKRoxEt",
        "outputId": "2c4c8fc3-84f1-49b9-f8f0-dec94ed4004b"
      },
      "execution_count": 69,
      "outputs": [
        {
          "output_type": "execute_result",
          "data": {
            "text/plain": [
              "[<matplotlib.lines.Line2D at 0x7f75a9c77a00>]"
            ]
          },
          "metadata": {},
          "execution_count": 69
        },
        {
          "output_type": "display_data",
          "data": {
            "text/plain": [
              "<Figure size 640x480 with 1 Axes>"
            ],
            "image/png": "[encoded data removed]"
          },
          "metadata": {}
        }
      ]
    },
    {
      "cell_type": "code",
      "source": [
        "plt.plot(x,y,'red')  # plt.plot(x,y,'r') \n",
        "plt.plot(x,z,'black')  # plt.plot(x,y,'k') \n",
        "plt.show()"
      ],
      "metadata": {
        "colab": {
          "base_uri": "https://localhost:8080/",
          "height": 430
        },
        "id": "5-HDmjDCo4bO",
        "outputId": "dd910d45-db81-4e77-9af6-b17b8f6f18e9"
      },
      "execution_count": 72,
      "outputs": [
        {
          "output_type": "display_data",
          "data": {
            "text/plain": [
              "<Figure size 640x480 with 1 Axes>"
            ],
            "image/png": "[encoded data removed]"
          },
          "metadata": {}
        }
      ]
    }
  ]
}